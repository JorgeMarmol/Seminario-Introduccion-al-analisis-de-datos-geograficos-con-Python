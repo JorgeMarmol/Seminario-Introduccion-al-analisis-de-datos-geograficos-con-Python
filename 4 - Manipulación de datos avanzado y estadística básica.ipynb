{
 "cells": [
  {
   "cell_type": "markdown",
   "id": "2416e1db",
   "metadata": {},
   "source": [
    "# 4 - Manipulación de datos avanzado y estadística básica"
   ]
  },
  {
   "cell_type": "markdown",
   "id": "b0bd9d2b-d111-45c6-a12b-172643313832",
   "metadata": {},
   "source": [
    "No son pocas las posibilidades de procesamiento y exploración que podemos hacer con Pandas, en el siguiente notebook trataremos de ilustrarlas."
   ]
  },
  {
   "cell_type": "code",
   "execution_count": 1,
   "id": "4d10ed25",
   "metadata": {},
   "outputs": [],
   "source": [
    "import pandas as pd\n",
    "import numpy as np"
   ]
  },
  {
   "cell_type": "markdown",
   "id": "6ade181e",
   "metadata": {},
   "source": [
    "En primer lugar, leamos el dataset"
   ]
  },
  {
   "cell_type": "code",
   "execution_count": 2,
   "id": "a34116a0",
   "metadata": {},
   "outputs": [
    {
     "data": {
      "text/html": [
       "<div>\n",
       "<style scoped>\n",
       "    .dataframe tbody tr th:only-of-type {\n",
       "        vertical-align: middle;\n",
       "    }\n",
       "\n",
       "    .dataframe tbody tr th {\n",
       "        vertical-align: top;\n",
       "    }\n",
       "\n",
       "    .dataframe thead th {\n",
       "        text-align: right;\n",
       "    }\n",
       "</style>\n",
       "<table border=\"1\" class=\"dataframe\">\n",
       "  <thead>\n",
       "    <tr style=\"text-align: right;\">\n",
       "      <th></th>\n",
       "      <th>Series Name</th>\n",
       "      <th>Series Code</th>\n",
       "      <th>Country Name</th>\n",
       "      <th>Country Code</th>\n",
       "      <th>1990 [YR1990]</th>\n",
       "      <th>2000 [YR2000]</th>\n",
       "      <th>2015 [YR2015]</th>\n",
       "      <th>2016 [YR2016]</th>\n",
       "      <th>2017 [YR2017]</th>\n",
       "      <th>2018 [YR2018]</th>\n",
       "      <th>2019 [YR2019]</th>\n",
       "      <th>2020 [YR2020]</th>\n",
       "      <th>2021 [YR2021]</th>\n",
       "      <th>2022 [YR2022]</th>\n",
       "      <th>2023 [YR2023]</th>\n",
       "      <th>2024 [YR2024]</th>\n",
       "    </tr>\n",
       "  </thead>\n",
       "  <tbody>\n",
       "    <tr>\n",
       "      <th>266</th>\n",
       "      <td>NaN</td>\n",
       "      <td>NaN</td>\n",
       "      <td>NaN</td>\n",
       "      <td>NaN</td>\n",
       "      <td>NaN</td>\n",
       "      <td>NaN</td>\n",
       "      <td>NaN</td>\n",
       "      <td>NaN</td>\n",
       "      <td>NaN</td>\n",
       "      <td>NaN</td>\n",
       "      <td>NaN</td>\n",
       "      <td>NaN</td>\n",
       "      <td>NaN</td>\n",
       "      <td>NaN</td>\n",
       "      <td>NaN</td>\n",
       "      <td>NaN</td>\n",
       "    </tr>\n",
       "    <tr>\n",
       "      <th>267</th>\n",
       "      <td>NaN</td>\n",
       "      <td>NaN</td>\n",
       "      <td>NaN</td>\n",
       "      <td>NaN</td>\n",
       "      <td>NaN</td>\n",
       "      <td>NaN</td>\n",
       "      <td>NaN</td>\n",
       "      <td>NaN</td>\n",
       "      <td>NaN</td>\n",
       "      <td>NaN</td>\n",
       "      <td>NaN</td>\n",
       "      <td>NaN</td>\n",
       "      <td>NaN</td>\n",
       "      <td>NaN</td>\n",
       "      <td>NaN</td>\n",
       "      <td>NaN</td>\n",
       "    </tr>\n",
       "    <tr>\n",
       "      <th>268</th>\n",
       "      <td>NaN</td>\n",
       "      <td>NaN</td>\n",
       "      <td>NaN</td>\n",
       "      <td>NaN</td>\n",
       "      <td>NaN</td>\n",
       "      <td>NaN</td>\n",
       "      <td>NaN</td>\n",
       "      <td>NaN</td>\n",
       "      <td>NaN</td>\n",
       "      <td>NaN</td>\n",
       "      <td>NaN</td>\n",
       "      <td>NaN</td>\n",
       "      <td>NaN</td>\n",
       "      <td>NaN</td>\n",
       "      <td>NaN</td>\n",
       "      <td>NaN</td>\n",
       "    </tr>\n",
       "    <tr>\n",
       "      <th>269</th>\n",
       "      <td>Data from database: World Development Indicators</td>\n",
       "      <td>NaN</td>\n",
       "      <td>NaN</td>\n",
       "      <td>NaN</td>\n",
       "      <td>NaN</td>\n",
       "      <td>NaN</td>\n",
       "      <td>NaN</td>\n",
       "      <td>NaN</td>\n",
       "      <td>NaN</td>\n",
       "      <td>NaN</td>\n",
       "      <td>NaN</td>\n",
       "      <td>NaN</td>\n",
       "      <td>NaN</td>\n",
       "      <td>NaN</td>\n",
       "      <td>NaN</td>\n",
       "      <td>NaN</td>\n",
       "    </tr>\n",
       "    <tr>\n",
       "      <th>270</th>\n",
       "      <td>Last Updated: 06/05/2025</td>\n",
       "      <td>NaN</td>\n",
       "      <td>NaN</td>\n",
       "      <td>NaN</td>\n",
       "      <td>NaN</td>\n",
       "      <td>NaN</td>\n",
       "      <td>NaN</td>\n",
       "      <td>NaN</td>\n",
       "      <td>NaN</td>\n",
       "      <td>NaN</td>\n",
       "      <td>NaN</td>\n",
       "      <td>NaN</td>\n",
       "      <td>NaN</td>\n",
       "      <td>NaN</td>\n",
       "      <td>NaN</td>\n",
       "      <td>NaN</td>\n",
       "    </tr>\n",
       "  </tbody>\n",
       "</table>\n",
       "</div>"
      ],
      "text/plain": [
       "                                          Series Name Series Code  \\\n",
       "266                                               NaN         NaN   \n",
       "267                                               NaN         NaN   \n",
       "268                                               NaN         NaN   \n",
       "269  Data from database: World Development Indicators         NaN   \n",
       "270                          Last Updated: 06/05/2025         NaN   \n",
       "\n",
       "    Country Name Country Code 1990 [YR1990] 2000 [YR2000] 2015 [YR2015]  \\\n",
       "266          NaN          NaN           NaN           NaN           NaN   \n",
       "267          NaN          NaN           NaN           NaN           NaN   \n",
       "268          NaN          NaN           NaN           NaN           NaN   \n",
       "269          NaN          NaN           NaN           NaN           NaN   \n",
       "270          NaN          NaN           NaN           NaN           NaN   \n",
       "\n",
       "    2016 [YR2016] 2017 [YR2017] 2018 [YR2018] 2019 [YR2019] 2020 [YR2020]  \\\n",
       "266           NaN           NaN           NaN           NaN           NaN   \n",
       "267           NaN           NaN           NaN           NaN           NaN   \n",
       "268           NaN           NaN           NaN           NaN           NaN   \n",
       "269           NaN           NaN           NaN           NaN           NaN   \n",
       "270           NaN           NaN           NaN           NaN           NaN   \n",
       "\n",
       "    2021 [YR2021] 2022 [YR2022] 2023 [YR2023] 2024 [YR2024]  \n",
       "266           NaN           NaN           NaN           NaN  \n",
       "267           NaN           NaN           NaN           NaN  \n",
       "268           NaN           NaN           NaN           NaN  \n",
       "269           NaN           NaN           NaN           NaN  \n",
       "270           NaN           NaN           NaN           NaN  "
      ]
     },
     "execution_count": 2,
     "metadata": {},
     "output_type": "execute_result"
    }
   ],
   "source": [
    "df = pd.read_csv('data/air_pollution.csv')\n",
    "\n",
    "df.tail()"
   ]
  },
  {
   "cell_type": "markdown",
   "id": "2d5ea4e8",
   "metadata": {},
   "source": [
    "Observamos que hay bastantes códigos nulos, para ello usamos el método dropna."
   ]
  },
  {
   "cell_type": "code",
   "execution_count": 3,
   "id": "f888ead6",
   "metadata": {},
   "outputs": [
    {
     "data": {
      "text/html": [
       "<div>\n",
       "<style scoped>\n",
       "    .dataframe tbody tr th:only-of-type {\n",
       "        vertical-align: middle;\n",
       "    }\n",
       "\n",
       "    .dataframe tbody tr th {\n",
       "        vertical-align: top;\n",
       "    }\n",
       "\n",
       "    .dataframe thead th {\n",
       "        text-align: right;\n",
       "    }\n",
       "</style>\n",
       "<table border=\"1\" class=\"dataframe\">\n",
       "  <thead>\n",
       "    <tr style=\"text-align: right;\">\n",
       "      <th></th>\n",
       "      <th>Series Name</th>\n",
       "      <th>Series Code</th>\n",
       "      <th>Country Name</th>\n",
       "      <th>Country Code</th>\n",
       "      <th>1990 [YR1990]</th>\n",
       "      <th>2000 [YR2000]</th>\n",
       "      <th>2015 [YR2015]</th>\n",
       "      <th>2016 [YR2016]</th>\n",
       "      <th>2017 [YR2017]</th>\n",
       "      <th>2018 [YR2018]</th>\n",
       "      <th>2019 [YR2019]</th>\n",
       "      <th>2020 [YR2020]</th>\n",
       "      <th>2021 [YR2021]</th>\n",
       "      <th>2022 [YR2022]</th>\n",
       "      <th>2023 [YR2023]</th>\n",
       "      <th>2024 [YR2024]</th>\n",
       "    </tr>\n",
       "  </thead>\n",
       "  <tbody>\n",
       "    <tr>\n",
       "      <th>261</th>\n",
       "      <td>PM2.5 air pollution, mean annual exposure (mic...</td>\n",
       "      <td>EN.ATM.PM25.MC.M3</td>\n",
       "      <td>Sub-Saharan Africa</td>\n",
       "      <td>SSF</td>\n",
       "      <td>39.2332038634254</td>\n",
       "      <td>41.2294606842827</td>\n",
       "      <td>46.5544222062187</td>\n",
       "      <td>42.7530014483733</td>\n",
       "      <td>40.7846217866119</td>\n",
       "      <td>39.0944691727479</td>\n",
       "      <td>36.2221384584107</td>\n",
       "      <td>38.1777310513302</td>\n",
       "      <td>..</td>\n",
       "      <td>..</td>\n",
       "      <td>..</td>\n",
       "      <td>..</td>\n",
       "    </tr>\n",
       "    <tr>\n",
       "      <th>262</th>\n",
       "      <td>PM2.5 air pollution, mean annual exposure (mic...</td>\n",
       "      <td>EN.ATM.PM25.MC.M3</td>\n",
       "      <td>Sub-Saharan Africa (excluding high income)</td>\n",
       "      <td>SSA</td>\n",
       "      <td>39.2372720698874</td>\n",
       "      <td>41.2331262674597</td>\n",
       "      <td>46.5578442490273</td>\n",
       "      <td>42.7559549761457</td>\n",
       "      <td>40.7873650675393</td>\n",
       "      <td>39.0970618039546</td>\n",
       "      <td>36.2244340511557</td>\n",
       "      <td>38.1802309248681</td>\n",
       "      <td>..</td>\n",
       "      <td>..</td>\n",
       "      <td>..</td>\n",
       "      <td>..</td>\n",
       "    </tr>\n",
       "    <tr>\n",
       "      <th>263</th>\n",
       "      <td>PM2.5 air pollution, mean annual exposure (mic...</td>\n",
       "      <td>EN.ATM.PM25.MC.M3</td>\n",
       "      <td>Sub-Saharan Africa (IDA &amp; IBRD countries)</td>\n",
       "      <td>TSS</td>\n",
       "      <td>39.2332038634254</td>\n",
       "      <td>41.2294606842827</td>\n",
       "      <td>46.5544222062187</td>\n",
       "      <td>42.7530014483733</td>\n",
       "      <td>40.7846217866119</td>\n",
       "      <td>39.0944691727479</td>\n",
       "      <td>36.2221384584107</td>\n",
       "      <td>38.1777310513302</td>\n",
       "      <td>..</td>\n",
       "      <td>..</td>\n",
       "      <td>..</td>\n",
       "      <td>..</td>\n",
       "    </tr>\n",
       "    <tr>\n",
       "      <th>264</th>\n",
       "      <td>PM2.5 air pollution, mean annual exposure (mic...</td>\n",
       "      <td>EN.ATM.PM25.MC.M3</td>\n",
       "      <td>Upper middle income</td>\n",
       "      <td>UMC</td>\n",
       "      <td>39.88493346304</td>\n",
       "      <td>39.5231020700893</td>\n",
       "      <td>36.6675542420567</td>\n",
       "      <td>34.4656325190796</td>\n",
       "      <td>33.3499632452514</td>\n",
       "      <td>30.7834709018042</td>\n",
       "      <td>29.0935841579217</td>\n",
       "      <td>27.4111876981387</td>\n",
       "      <td>..</td>\n",
       "      <td>..</td>\n",
       "      <td>..</td>\n",
       "      <td>..</td>\n",
       "    </tr>\n",
       "    <tr>\n",
       "      <th>265</th>\n",
       "      <td>PM2.5 air pollution, mean annual exposure (mic...</td>\n",
       "      <td>EN.ATM.PM25.MC.M3</td>\n",
       "      <td>World</td>\n",
       "      <td>WLD</td>\n",
       "      <td>39.6557396735183</td>\n",
       "      <td>39.8365163043514</td>\n",
       "      <td>42.1578674575682</td>\n",
       "      <td>40.9733816118391</td>\n",
       "      <td>38.3887564832994</td>\n",
       "      <td>37.6380474813557</td>\n",
       "      <td>34.4974705338068</td>\n",
       "      <td>31.321074188751</td>\n",
       "      <td>..</td>\n",
       "      <td>..</td>\n",
       "      <td>..</td>\n",
       "      <td>..</td>\n",
       "    </tr>\n",
       "  </tbody>\n",
       "</table>\n",
       "</div>"
      ],
      "text/plain": [
       "                                           Series Name        Series Code  \\\n",
       "261  PM2.5 air pollution, mean annual exposure (mic...  EN.ATM.PM25.MC.M3   \n",
       "262  PM2.5 air pollution, mean annual exposure (mic...  EN.ATM.PM25.MC.M3   \n",
       "263  PM2.5 air pollution, mean annual exposure (mic...  EN.ATM.PM25.MC.M3   \n",
       "264  PM2.5 air pollution, mean annual exposure (mic...  EN.ATM.PM25.MC.M3   \n",
       "265  PM2.5 air pollution, mean annual exposure (mic...  EN.ATM.PM25.MC.M3   \n",
       "\n",
       "                                   Country Name Country Code  \\\n",
       "261                          Sub-Saharan Africa          SSF   \n",
       "262  Sub-Saharan Africa (excluding high income)          SSA   \n",
       "263   Sub-Saharan Africa (IDA & IBRD countries)          TSS   \n",
       "264                         Upper middle income          UMC   \n",
       "265                                       World          WLD   \n",
       "\n",
       "        1990 [YR1990]     2000 [YR2000]     2015 [YR2015]     2016 [YR2016]  \\\n",
       "261  39.2332038634254  41.2294606842827  46.5544222062187  42.7530014483733   \n",
       "262  39.2372720698874  41.2331262674597  46.5578442490273  42.7559549761457   \n",
       "263  39.2332038634254  41.2294606842827  46.5544222062187  42.7530014483733   \n",
       "264    39.88493346304  39.5231020700893  36.6675542420567  34.4656325190796   \n",
       "265  39.6557396735183  39.8365163043514  42.1578674575682  40.9733816118391   \n",
       "\n",
       "        2017 [YR2017]     2018 [YR2018]     2019 [YR2019]     2020 [YR2020]  \\\n",
       "261  40.7846217866119  39.0944691727479  36.2221384584107  38.1777310513302   \n",
       "262  40.7873650675393  39.0970618039546  36.2244340511557  38.1802309248681   \n",
       "263  40.7846217866119  39.0944691727479  36.2221384584107  38.1777310513302   \n",
       "264  33.3499632452514  30.7834709018042  29.0935841579217  27.4111876981387   \n",
       "265  38.3887564832994  37.6380474813557  34.4974705338068   31.321074188751   \n",
       "\n",
       "    2021 [YR2021] 2022 [YR2022] 2023 [YR2023] 2024 [YR2024]  \n",
       "261            ..            ..            ..            ..  \n",
       "262            ..            ..            ..            ..  \n",
       "263            ..            ..            ..            ..  \n",
       "264            ..            ..            ..            ..  \n",
       "265            ..            ..            ..            ..  "
      ]
     },
     "execution_count": 3,
     "metadata": {},
     "output_type": "execute_result"
    }
   ],
   "source": [
    "df.dropna(inplace=True)\n",
    "\n",
    "df.tail()"
   ]
  },
  {
   "cell_type": "markdown",
   "id": "14e9447d",
   "metadata": {},
   "source": [
    "Identificamos propiedades de los campos"
   ]
  },
  {
   "cell_type": "code",
   "execution_count": 4,
   "id": "84342953",
   "metadata": {},
   "outputs": [
    {
     "data": {
      "text/html": [
       "<div>\n",
       "<style scoped>\n",
       "    .dataframe tbody tr th:only-of-type {\n",
       "        vertical-align: middle;\n",
       "    }\n",
       "\n",
       "    .dataframe tbody tr th {\n",
       "        vertical-align: top;\n",
       "    }\n",
       "\n",
       "    .dataframe thead th {\n",
       "        text-align: right;\n",
       "    }\n",
       "</style>\n",
       "<table border=\"1\" class=\"dataframe\">\n",
       "  <thead>\n",
       "    <tr style=\"text-align: right;\">\n",
       "      <th></th>\n",
       "      <th>Series Name</th>\n",
       "      <th>Series Code</th>\n",
       "      <th>Country Name</th>\n",
       "      <th>Country Code</th>\n",
       "      <th>1990 [YR1990]</th>\n",
       "      <th>2000 [YR2000]</th>\n",
       "      <th>2015 [YR2015]</th>\n",
       "      <th>2016 [YR2016]</th>\n",
       "      <th>2017 [YR2017]</th>\n",
       "      <th>2018 [YR2018]</th>\n",
       "      <th>2019 [YR2019]</th>\n",
       "      <th>2020 [YR2020]</th>\n",
       "      <th>2021 [YR2021]</th>\n",
       "      <th>2022 [YR2022]</th>\n",
       "      <th>2023 [YR2023]</th>\n",
       "      <th>2024 [YR2024]</th>\n",
       "    </tr>\n",
       "  </thead>\n",
       "  <tbody>\n",
       "    <tr>\n",
       "      <th>count</th>\n",
       "      <td>266</td>\n",
       "      <td>266</td>\n",
       "      <td>266</td>\n",
       "      <td>266</td>\n",
       "      <td>266</td>\n",
       "      <td>266</td>\n",
       "      <td>266</td>\n",
       "      <td>266</td>\n",
       "      <td>266</td>\n",
       "      <td>266</td>\n",
       "      <td>266</td>\n",
       "      <td>266</td>\n",
       "      <td>266</td>\n",
       "      <td>266</td>\n",
       "      <td>266</td>\n",
       "      <td>266</td>\n",
       "    </tr>\n",
       "    <tr>\n",
       "      <th>unique</th>\n",
       "      <td>1</td>\n",
       "      <td>1</td>\n",
       "      <td>266</td>\n",
       "      <td>266</td>\n",
       "      <td>247</td>\n",
       "      <td>247</td>\n",
       "      <td>247</td>\n",
       "      <td>247</td>\n",
       "      <td>247</td>\n",
       "      <td>247</td>\n",
       "      <td>247</td>\n",
       "      <td>247</td>\n",
       "      <td>1</td>\n",
       "      <td>1</td>\n",
       "      <td>1</td>\n",
       "      <td>1</td>\n",
       "    </tr>\n",
       "    <tr>\n",
       "      <th>top</th>\n",
       "      <td>PM2.5 air pollution, mean annual exposure (mic...</td>\n",
       "      <td>EN.ATM.PM25.MC.M3</td>\n",
       "      <td>Afghanistan</td>\n",
       "      <td>AFG</td>\n",
       "      <td>..</td>\n",
       "      <td>..</td>\n",
       "      <td>..</td>\n",
       "      <td>..</td>\n",
       "      <td>..</td>\n",
       "      <td>..</td>\n",
       "      <td>..</td>\n",
       "      <td>..</td>\n",
       "      <td>..</td>\n",
       "      <td>..</td>\n",
       "      <td>..</td>\n",
       "      <td>..</td>\n",
       "    </tr>\n",
       "    <tr>\n",
       "      <th>freq</th>\n",
       "      <td>266</td>\n",
       "      <td>266</td>\n",
       "      <td>1</td>\n",
       "      <td>1</td>\n",
       "      <td>18</td>\n",
       "      <td>18</td>\n",
       "      <td>18</td>\n",
       "      <td>18</td>\n",
       "      <td>18</td>\n",
       "      <td>18</td>\n",
       "      <td>18</td>\n",
       "      <td>18</td>\n",
       "      <td>266</td>\n",
       "      <td>266</td>\n",
       "      <td>266</td>\n",
       "      <td>266</td>\n",
       "    </tr>\n",
       "  </tbody>\n",
       "</table>\n",
       "</div>"
      ],
      "text/plain": [
       "                                              Series Name        Series Code  \\\n",
       "count                                                 266                266   \n",
       "unique                                                  1                  1   \n",
       "top     PM2.5 air pollution, mean annual exposure (mic...  EN.ATM.PM25.MC.M3   \n",
       "freq                                                  266                266   \n",
       "\n",
       "       Country Name Country Code 1990 [YR1990] 2000 [YR2000] 2015 [YR2015]  \\\n",
       "count           266          266           266           266           266   \n",
       "unique          266          266           247           247           247   \n",
       "top     Afghanistan          AFG            ..            ..            ..   \n",
       "freq              1            1            18            18            18   \n",
       "\n",
       "       2016 [YR2016] 2017 [YR2017] 2018 [YR2018] 2019 [YR2019] 2020 [YR2020]  \\\n",
       "count            266           266           266           266           266   \n",
       "unique           247           247           247           247           247   \n",
       "top               ..            ..            ..            ..            ..   \n",
       "freq              18            18            18            18            18   \n",
       "\n",
       "       2021 [YR2021] 2022 [YR2022] 2023 [YR2023] 2024 [YR2024]  \n",
       "count            266           266           266           266  \n",
       "unique             1             1             1             1  \n",
       "top               ..            ..            ..            ..  \n",
       "freq             266           266           266           266  "
      ]
     },
     "execution_count": 4,
     "metadata": {},
     "output_type": "execute_result"
    }
   ],
   "source": [
    "df.describe()"
   ]
  },
  {
   "cell_type": "markdown",
   "id": "bfee5ab4",
   "metadata": {},
   "source": [
    "Observamos que el nivel de granulabilidad de la tabla es justo el país. El nivel de granulabilidad es el mínimo nivel de información al que podemos acudir. Siempre es importante saber a qué nivel estamos consultando la información de nuestra tabla.\n",
    "\n",
    "Vemos por ejemplo de que todo corresponde exactamente al mismo Series Name:"
   ]
  },
  {
   "cell_type": "code",
   "execution_count": 9,
   "id": "cc59ead8",
   "metadata": {},
   "outputs": [
    {
     "data": {
      "text/plain": [
       "array(['PM2.5 air pollution, mean annual exposure (micrograms per cubic meter)'],\n",
       "      dtype=object)"
      ]
     },
     "execution_count": 9,
     "metadata": {},
     "output_type": "execute_result"
    }
   ],
   "source": [
    "df['Series Name'].unique()"
   ]
  },
  {
   "cell_type": "code",
   "execution_count": 10,
   "id": "8ce5f2dd",
   "metadata": {},
   "outputs": [
    {
     "name": "stdout",
     "output_type": "stream",
     "text": [
      "<class 'pandas.core.frame.DataFrame'>\n",
      "Index: 266 entries, 0 to 265\n",
      "Data columns (total 16 columns):\n",
      " #   Column         Non-Null Count  Dtype \n",
      "---  ------         --------------  ----- \n",
      " 0   Series Name    266 non-null    object\n",
      " 1   Series Code    266 non-null    object\n",
      " 2   Country Name   266 non-null    object\n",
      " 3   Country Code   266 non-null    object\n",
      " 4   1990 [YR1990]  266 non-null    object\n",
      " 5   2000 [YR2000]  266 non-null    object\n",
      " 6   2015 [YR2015]  266 non-null    object\n",
      " 7   2016 [YR2016]  266 non-null    object\n",
      " 8   2017 [YR2017]  266 non-null    object\n",
      " 9   2018 [YR2018]  266 non-null    object\n",
      " 10  2019 [YR2019]  266 non-null    object\n",
      " 11  2020 [YR2020]  266 non-null    object\n",
      " 12  2021 [YR2021]  266 non-null    object\n",
      " 13  2022 [YR2022]  266 non-null    object\n",
      " 14  2023 [YR2023]  266 non-null    object\n",
      " 15  2024 [YR2024]  266 non-null    object\n",
      "dtypes: object(16)\n",
      "memory usage: 35.3+ KB\n"
     ]
    }
   ],
   "source": [
    "df.info()"
   ]
  },
  {
   "cell_type": "markdown",
   "id": "440f7aa1-68d0-4957-b7c1-0f2a66c73f6a",
   "metadata": {},
   "source": [
    "Notamos que los campos que deberían ser numérico son de tipo object (categóricos). Pretendemos cambiarle el tipo con astype:"
   ]
  },
  {
   "cell_type": "code",
   "execution_count": 11,
   "id": "42f8dc86",
   "metadata": {},
   "outputs": [],
   "source": [
    "df_2020=df[[\"Country Name\",\"2020 [YR2020]\"]]"
   ]
  },
  {
   "cell_type": "markdown",
   "id": "af35811b-113b-44be-8a4f-9ab5205f4698",
   "metadata": {},
   "source": [
    "Al intentar hacerlo directamente con la función astype() nos produce un error, por lo que tendremos que intentarlo de otra forma."
   ]
  },
  {
   "cell_type": "code",
   "execution_count": 14,
   "id": "71910978-eb9e-4fdb-b48f-9a0a90afe4ec",
   "metadata": {},
   "outputs": [
    {
     "ename": "ValueError",
     "evalue": "could not convert string to float: '..'",
     "output_type": "error",
     "traceback": [
      "\u001b[1;31m---------------------------------------------------------------------------\u001b[0m",
      "\u001b[1;31mValueError\u001b[0m                                Traceback (most recent call last)",
      "Cell \u001b[1;32mIn[14], line 1\u001b[0m\n\u001b[1;32m----> 1\u001b[0m df_2020[\u001b[38;5;124m\"\u001b[39m\u001b[38;5;124m2020 [YR2020]\u001b[39m\u001b[38;5;124m\"\u001b[39m]\u001b[38;5;241m.\u001b[39mastype(\u001b[38;5;124m\"\u001b[39m\u001b[38;5;124mfloat\u001b[39m\u001b[38;5;124m\"\u001b[39m)\n",
      "File \u001b[1;32mC:\\ProgramData\\anaconda3\\Lib\\site-packages\\pandas\\core\\generic.py:6643\u001b[0m, in \u001b[0;36mNDFrame.astype\u001b[1;34m(self, dtype, copy, errors)\u001b[0m\n\u001b[0;32m   6637\u001b[0m     results \u001b[38;5;241m=\u001b[39m [\n\u001b[0;32m   6638\u001b[0m         ser\u001b[38;5;241m.\u001b[39mastype(dtype, copy\u001b[38;5;241m=\u001b[39mcopy, errors\u001b[38;5;241m=\u001b[39merrors) \u001b[38;5;28;01mfor\u001b[39;00m _, ser \u001b[38;5;129;01min\u001b[39;00m \u001b[38;5;28mself\u001b[39m\u001b[38;5;241m.\u001b[39mitems()\n\u001b[0;32m   6639\u001b[0m     ]\n\u001b[0;32m   6641\u001b[0m \u001b[38;5;28;01melse\u001b[39;00m:\n\u001b[0;32m   6642\u001b[0m     \u001b[38;5;66;03m# else, only a single dtype is given\u001b[39;00m\n\u001b[1;32m-> 6643\u001b[0m     new_data \u001b[38;5;241m=\u001b[39m \u001b[38;5;28mself\u001b[39m\u001b[38;5;241m.\u001b[39m_mgr\u001b[38;5;241m.\u001b[39mastype(dtype\u001b[38;5;241m=\u001b[39mdtype, copy\u001b[38;5;241m=\u001b[39mcopy, errors\u001b[38;5;241m=\u001b[39merrors)\n\u001b[0;32m   6644\u001b[0m     res \u001b[38;5;241m=\u001b[39m \u001b[38;5;28mself\u001b[39m\u001b[38;5;241m.\u001b[39m_constructor_from_mgr(new_data, axes\u001b[38;5;241m=\u001b[39mnew_data\u001b[38;5;241m.\u001b[39maxes)\n\u001b[0;32m   6645\u001b[0m     \u001b[38;5;28;01mreturn\u001b[39;00m res\u001b[38;5;241m.\u001b[39m__finalize__(\u001b[38;5;28mself\u001b[39m, method\u001b[38;5;241m=\u001b[39m\u001b[38;5;124m\"\u001b[39m\u001b[38;5;124mastype\u001b[39m\u001b[38;5;124m\"\u001b[39m)\n",
      "File \u001b[1;32mC:\\ProgramData\\anaconda3\\Lib\\site-packages\\pandas\\core\\internals\\managers.py:430\u001b[0m, in \u001b[0;36mBaseBlockManager.astype\u001b[1;34m(self, dtype, copy, errors)\u001b[0m\n\u001b[0;32m    427\u001b[0m \u001b[38;5;28;01melif\u001b[39;00m using_copy_on_write():\n\u001b[0;32m    428\u001b[0m     copy \u001b[38;5;241m=\u001b[39m \u001b[38;5;28;01mFalse\u001b[39;00m\n\u001b[1;32m--> 430\u001b[0m \u001b[38;5;28;01mreturn\u001b[39;00m \u001b[38;5;28mself\u001b[39m\u001b[38;5;241m.\u001b[39mapply(\n\u001b[0;32m    431\u001b[0m     \u001b[38;5;124m\"\u001b[39m\u001b[38;5;124mastype\u001b[39m\u001b[38;5;124m\"\u001b[39m,\n\u001b[0;32m    432\u001b[0m     dtype\u001b[38;5;241m=\u001b[39mdtype,\n\u001b[0;32m    433\u001b[0m     copy\u001b[38;5;241m=\u001b[39mcopy,\n\u001b[0;32m    434\u001b[0m     errors\u001b[38;5;241m=\u001b[39merrors,\n\u001b[0;32m    435\u001b[0m     using_cow\u001b[38;5;241m=\u001b[39musing_copy_on_write(),\n\u001b[0;32m    436\u001b[0m )\n",
      "File \u001b[1;32mC:\\ProgramData\\anaconda3\\Lib\\site-packages\\pandas\\core\\internals\\managers.py:363\u001b[0m, in \u001b[0;36mBaseBlockManager.apply\u001b[1;34m(self, f, align_keys, **kwargs)\u001b[0m\n\u001b[0;32m    361\u001b[0m         applied \u001b[38;5;241m=\u001b[39m b\u001b[38;5;241m.\u001b[39mapply(f, \u001b[38;5;241m*\u001b[39m\u001b[38;5;241m*\u001b[39mkwargs)\n\u001b[0;32m    362\u001b[0m     \u001b[38;5;28;01melse\u001b[39;00m:\n\u001b[1;32m--> 363\u001b[0m         applied \u001b[38;5;241m=\u001b[39m \u001b[38;5;28mgetattr\u001b[39m(b, f)(\u001b[38;5;241m*\u001b[39m\u001b[38;5;241m*\u001b[39mkwargs)\n\u001b[0;32m    364\u001b[0m     result_blocks \u001b[38;5;241m=\u001b[39m extend_blocks(applied, result_blocks)\n\u001b[0;32m    366\u001b[0m out \u001b[38;5;241m=\u001b[39m \u001b[38;5;28mtype\u001b[39m(\u001b[38;5;28mself\u001b[39m)\u001b[38;5;241m.\u001b[39mfrom_blocks(result_blocks, \u001b[38;5;28mself\u001b[39m\u001b[38;5;241m.\u001b[39maxes)\n",
      "File \u001b[1;32mC:\\ProgramData\\anaconda3\\Lib\\site-packages\\pandas\\core\\internals\\blocks.py:758\u001b[0m, in \u001b[0;36mBlock.astype\u001b[1;34m(self, dtype, copy, errors, using_cow, squeeze)\u001b[0m\n\u001b[0;32m    755\u001b[0m         \u001b[38;5;28;01mraise\u001b[39;00m \u001b[38;5;167;01mValueError\u001b[39;00m(\u001b[38;5;124m\"\u001b[39m\u001b[38;5;124mCan not squeeze with more than one column.\u001b[39m\u001b[38;5;124m\"\u001b[39m)\n\u001b[0;32m    756\u001b[0m     values \u001b[38;5;241m=\u001b[39m values[\u001b[38;5;241m0\u001b[39m, :]  \u001b[38;5;66;03m# type: ignore[call-overload]\u001b[39;00m\n\u001b[1;32m--> 758\u001b[0m new_values \u001b[38;5;241m=\u001b[39m astype_array_safe(values, dtype, copy\u001b[38;5;241m=\u001b[39mcopy, errors\u001b[38;5;241m=\u001b[39merrors)\n\u001b[0;32m    760\u001b[0m new_values \u001b[38;5;241m=\u001b[39m maybe_coerce_values(new_values)\n\u001b[0;32m    762\u001b[0m refs \u001b[38;5;241m=\u001b[39m \u001b[38;5;28;01mNone\u001b[39;00m\n",
      "File \u001b[1;32mC:\\ProgramData\\anaconda3\\Lib\\site-packages\\pandas\\core\\dtypes\\astype.py:237\u001b[0m, in \u001b[0;36mastype_array_safe\u001b[1;34m(values, dtype, copy, errors)\u001b[0m\n\u001b[0;32m    234\u001b[0m     dtype \u001b[38;5;241m=\u001b[39m dtype\u001b[38;5;241m.\u001b[39mnumpy_dtype\n\u001b[0;32m    236\u001b[0m \u001b[38;5;28;01mtry\u001b[39;00m:\n\u001b[1;32m--> 237\u001b[0m     new_values \u001b[38;5;241m=\u001b[39m astype_array(values, dtype, copy\u001b[38;5;241m=\u001b[39mcopy)\n\u001b[0;32m    238\u001b[0m \u001b[38;5;28;01mexcept\u001b[39;00m (\u001b[38;5;167;01mValueError\u001b[39;00m, \u001b[38;5;167;01mTypeError\u001b[39;00m):\n\u001b[0;32m    239\u001b[0m     \u001b[38;5;66;03m# e.g. _astype_nansafe can fail on object-dtype of strings\u001b[39;00m\n\u001b[0;32m    240\u001b[0m     \u001b[38;5;66;03m#  trying to convert to float\u001b[39;00m\n\u001b[0;32m    241\u001b[0m     \u001b[38;5;28;01mif\u001b[39;00m errors \u001b[38;5;241m==\u001b[39m \u001b[38;5;124m\"\u001b[39m\u001b[38;5;124mignore\u001b[39m\u001b[38;5;124m\"\u001b[39m:\n",
      "File \u001b[1;32mC:\\ProgramData\\anaconda3\\Lib\\site-packages\\pandas\\core\\dtypes\\astype.py:182\u001b[0m, in \u001b[0;36mastype_array\u001b[1;34m(values, dtype, copy)\u001b[0m\n\u001b[0;32m    179\u001b[0m     values \u001b[38;5;241m=\u001b[39m values\u001b[38;5;241m.\u001b[39mastype(dtype, copy\u001b[38;5;241m=\u001b[39mcopy)\n\u001b[0;32m    181\u001b[0m \u001b[38;5;28;01melse\u001b[39;00m:\n\u001b[1;32m--> 182\u001b[0m     values \u001b[38;5;241m=\u001b[39m _astype_nansafe(values, dtype, copy\u001b[38;5;241m=\u001b[39mcopy)\n\u001b[0;32m    184\u001b[0m \u001b[38;5;66;03m# in pandas we don't store numpy str dtypes, so convert to object\u001b[39;00m\n\u001b[0;32m    185\u001b[0m \u001b[38;5;28;01mif\u001b[39;00m \u001b[38;5;28misinstance\u001b[39m(dtype, np\u001b[38;5;241m.\u001b[39mdtype) \u001b[38;5;129;01mand\u001b[39;00m \u001b[38;5;28missubclass\u001b[39m(values\u001b[38;5;241m.\u001b[39mdtype\u001b[38;5;241m.\u001b[39mtype, \u001b[38;5;28mstr\u001b[39m):\n",
      "File \u001b[1;32mC:\\ProgramData\\anaconda3\\Lib\\site-packages\\pandas\\core\\dtypes\\astype.py:133\u001b[0m, in \u001b[0;36m_astype_nansafe\u001b[1;34m(arr, dtype, copy, skipna)\u001b[0m\n\u001b[0;32m    129\u001b[0m     \u001b[38;5;28;01mraise\u001b[39;00m \u001b[38;5;167;01mValueError\u001b[39;00m(msg)\n\u001b[0;32m    131\u001b[0m \u001b[38;5;28;01mif\u001b[39;00m copy \u001b[38;5;129;01mor\u001b[39;00m arr\u001b[38;5;241m.\u001b[39mdtype \u001b[38;5;241m==\u001b[39m \u001b[38;5;28mobject\u001b[39m \u001b[38;5;129;01mor\u001b[39;00m dtype \u001b[38;5;241m==\u001b[39m \u001b[38;5;28mobject\u001b[39m:\n\u001b[0;32m    132\u001b[0m     \u001b[38;5;66;03m# Explicit copy, or required since NumPy can't view from / to object.\u001b[39;00m\n\u001b[1;32m--> 133\u001b[0m     \u001b[38;5;28;01mreturn\u001b[39;00m arr\u001b[38;5;241m.\u001b[39mastype(dtype, copy\u001b[38;5;241m=\u001b[39m\u001b[38;5;28;01mTrue\u001b[39;00m)\n\u001b[0;32m    135\u001b[0m \u001b[38;5;28;01mreturn\u001b[39;00m arr\u001b[38;5;241m.\u001b[39mastype(dtype, copy\u001b[38;5;241m=\u001b[39mcopy)\n",
      "\u001b[1;31mValueError\u001b[0m: could not convert string to float: '..'"
     ]
    }
   ],
   "source": [
    "df_2020[\"2020 [YR2020]\"].astype(\"float\")"
   ]
  },
  {
   "cell_type": "markdown",
   "id": "e397c883-4df4-427e-a2cf-b32e8140e539",
   "metadata": {},
   "source": [
    "Sustituimos los string vacíos por np.nan con la función replace y tras ello ya conseguimos cambiarle el tipo a flotante."
   ]
  },
  {
   "cell_type": "code",
   "execution_count": 24,
   "id": "a6a9c9a1-42dc-4835-9858-9003076ca782",
   "metadata": {},
   "outputs": [
    {
     "name": "stderr",
     "output_type": "stream",
     "text": [
      "C:\\Users\\Jorge\\AppData\\Local\\Temp\\ipykernel_3708\\4126350758.py:1: SettingWithCopyWarning: \n",
      "A value is trying to be set on a copy of a slice from a DataFrame.\n",
      "Try using .loc[row_indexer,col_indexer] = value instead\n",
      "\n",
      "See the caveats in the documentation: https://pandas.pydata.org/pandas-docs/stable/user_guide/indexing.html#returning-a-view-versus-a-copy\n",
      "  df_2020[\"2020 [YR2020]\"] = df_2020[\"2020 [YR2020]\"].replace({\"..\": np.nan}).astype(float)\n"
     ]
    }
   ],
   "source": [
    "df_2020[\"2020 [YR2020]\"] = df_2020[\"2020 [YR2020]\"].replace({\"..\": np.nan}).astype(float)"
   ]
  },
  {
   "cell_type": "code",
   "execution_count": 27,
   "id": "3fad0152",
   "metadata": {},
   "outputs": [
    {
     "name": "stdout",
     "output_type": "stream",
     "text": [
      "<class 'pandas.core.frame.DataFrame'>\n",
      "Index: 266 entries, 0 to 265\n",
      "Data columns (total 2 columns):\n",
      " #   Column         Non-Null Count  Dtype  \n",
      "---  ------         --------------  -----  \n",
      " 0   Country Name   266 non-null    object \n",
      " 1   2020 [YR2020]  248 non-null    float64\n",
      "dtypes: float64(1), object(1)\n",
      "memory usage: 6.2+ KB\n"
     ]
    }
   ],
   "source": [
    "df_2020.info()"
   ]
  },
  {
   "cell_type": "markdown",
   "id": "ddff7861-2100-4548-98e8-1095020c7d8d",
   "metadata": {},
   "source": [
    "Imaginemos ahora que queremos la información agrupada por continente, para ello buscamos una fuente de datos fiable y la anexamos a nuestro dataframe.\n",
    "\n",
    "URL a los datos de los continentes: https://gist.github.com/alyssaq/3415363a18610d22f0d307bcaac857cd/"
   ]
  },
  {
   "cell_type": "code",
   "execution_count": 18,
   "id": "b687d991",
   "metadata": {},
   "outputs": [
    {
     "data": {
      "text/html": [
       "<div>\n",
       "<style scoped>\n",
       "    .dataframe tbody tr th:only-of-type {\n",
       "        vertical-align: middle;\n",
       "    }\n",
       "\n",
       "    .dataframe tbody tr th {\n",
       "        vertical-align: top;\n",
       "    }\n",
       "\n",
       "    .dataframe thead th {\n",
       "        text-align: right;\n",
       "    }\n",
       "</style>\n",
       "<table border=\"1\" class=\"dataframe\">\n",
       "  <thead>\n",
       "    <tr style=\"text-align: right;\">\n",
       "      <th></th>\n",
       "      <th>country</th>\n",
       "      <th>continent</th>\n",
       "    </tr>\n",
       "  </thead>\n",
       "  <tbody>\n",
       "    <tr>\n",
       "      <th>0</th>\n",
       "      <td>Afghanistan</td>\n",
       "      <td>Asia</td>\n",
       "    </tr>\n",
       "    <tr>\n",
       "      <th>1</th>\n",
       "      <td>Åland Islands</td>\n",
       "      <td>Europe</td>\n",
       "    </tr>\n",
       "    <tr>\n",
       "      <th>2</th>\n",
       "      <td>Albania</td>\n",
       "      <td>Europe</td>\n",
       "    </tr>\n",
       "    <tr>\n",
       "      <th>3</th>\n",
       "      <td>Algeria</td>\n",
       "      <td>Africa</td>\n",
       "    </tr>\n",
       "    <tr>\n",
       "      <th>4</th>\n",
       "      <td>American Samoa</td>\n",
       "      <td>Oceania</td>\n",
       "    </tr>\n",
       "    <tr>\n",
       "      <th>...</th>\n",
       "      <td>...</td>\n",
       "      <td>...</td>\n",
       "    </tr>\n",
       "    <tr>\n",
       "      <th>244</th>\n",
       "      <td>Wallis and Futuna</td>\n",
       "      <td>Oceania</td>\n",
       "    </tr>\n",
       "    <tr>\n",
       "      <th>245</th>\n",
       "      <td>Western Sahara</td>\n",
       "      <td>Africa</td>\n",
       "    </tr>\n",
       "    <tr>\n",
       "      <th>246</th>\n",
       "      <td>Yemen</td>\n",
       "      <td>Asia</td>\n",
       "    </tr>\n",
       "    <tr>\n",
       "      <th>247</th>\n",
       "      <td>Zambia</td>\n",
       "      <td>Africa</td>\n",
       "    </tr>\n",
       "    <tr>\n",
       "      <th>248</th>\n",
       "      <td>Zimbabwe</td>\n",
       "      <td>Africa</td>\n",
       "    </tr>\n",
       "  </tbody>\n",
       "</table>\n",
       "<p>249 rows × 2 columns</p>\n",
       "</div>"
      ],
      "text/plain": [
       "               country continent\n",
       "0          Afghanistan      Asia\n",
       "1        Åland Islands    Europe\n",
       "2              Albania    Europe\n",
       "3              Algeria    Africa\n",
       "4       American Samoa   Oceania\n",
       "..                 ...       ...\n",
       "244  Wallis and Futuna   Oceania\n",
       "245     Western Sahara    Africa\n",
       "246              Yemen      Asia\n",
       "247             Zambia    Africa\n",
       "248           Zimbabwe    Africa\n",
       "\n",
       "[249 rows x 2 columns]"
      ]
     },
     "execution_count": 18,
     "metadata": {},
     "output_type": "execute_result"
    }
   ],
   "source": [
    "continents = pd.read_csv(\"https://gist.githubusercontent.com/alyssaq/3415363a18610d22f0d307bcaac857cd/raw/dfd032859f7badf16953878ac86f1b9e42caffbc/countries_continents.csv\")\n",
    "continents = continents[[\"country_name\", \"continent_name\"]].rename(columns={\n",
    "    \"country_name\": \"country\",\n",
    "    \"continent_name\": \"continent\"\n",
    "})\n",
    "\n",
    "continents"
   ]
  },
  {
   "cell_type": "markdown",
   "id": "9dea5cea-ec0e-42d5-8334-38c6e3438fd6",
   "metadata": {},
   "source": [
    "Anexamos la información con la función merge, tras ello quitamos la columna duplicada country."
   ]
  },
  {
   "cell_type": "code",
   "execution_count": 21,
   "id": "29a24a05",
   "metadata": {},
   "outputs": [],
   "source": [
    "\n",
    "df_2020 = df_2020.merge(continents, left_on=\"Country Name\", right_on=\"country\", how=\"inner\").drop(columns=[\"country\"])"
   ]
  },
  {
   "cell_type": "code",
   "execution_count": 22,
   "id": "31417f08",
   "metadata": {},
   "outputs": [
    {
     "data": {
      "text/html": [
       "<div>\n",
       "<style scoped>\n",
       "    .dataframe tbody tr th:only-of-type {\n",
       "        vertical-align: middle;\n",
       "    }\n",
       "\n",
       "    .dataframe tbody tr th {\n",
       "        vertical-align: top;\n",
       "    }\n",
       "\n",
       "    .dataframe thead th {\n",
       "        text-align: right;\n",
       "    }\n",
       "</style>\n",
       "<table border=\"1\" class=\"dataframe\">\n",
       "  <thead>\n",
       "    <tr style=\"text-align: right;\">\n",
       "      <th></th>\n",
       "      <th>Country Name</th>\n",
       "      <th>2020 [YR2020]</th>\n",
       "      <th>continent</th>\n",
       "    </tr>\n",
       "  </thead>\n",
       "  <tbody>\n",
       "    <tr>\n",
       "      <th>0</th>\n",
       "      <td>Afghanistan</td>\n",
       "      <td>46.087094</td>\n",
       "      <td>Asia</td>\n",
       "    </tr>\n",
       "    <tr>\n",
       "      <th>1</th>\n",
       "      <td>Albania</td>\n",
       "      <td>15.707004</td>\n",
       "      <td>Europe</td>\n",
       "    </tr>\n",
       "    <tr>\n",
       "      <th>2</th>\n",
       "      <td>Algeria</td>\n",
       "      <td>25.552656</td>\n",
       "      <td>Africa</td>\n",
       "    </tr>\n",
       "    <tr>\n",
       "      <th>3</th>\n",
       "      <td>American Samoa</td>\n",
       "      <td>6.715147</td>\n",
       "      <td>Oceania</td>\n",
       "    </tr>\n",
       "    <tr>\n",
       "      <th>4</th>\n",
       "      <td>Andorra</td>\n",
       "      <td>9.080281</td>\n",
       "      <td>Europe</td>\n",
       "    </tr>\n",
       "    <tr>\n",
       "      <th>...</th>\n",
       "      <td>...</td>\n",
       "      <td>...</td>\n",
       "      <td>...</td>\n",
       "    </tr>\n",
       "    <tr>\n",
       "      <th>178</th>\n",
       "      <td>Uruguay</td>\n",
       "      <td>10.571792</td>\n",
       "      <td>South America</td>\n",
       "    </tr>\n",
       "    <tr>\n",
       "      <th>179</th>\n",
       "      <td>Uzbekistan</td>\n",
       "      <td>31.960429</td>\n",
       "      <td>Asia</td>\n",
       "    </tr>\n",
       "    <tr>\n",
       "      <th>180</th>\n",
       "      <td>Vanuatu</td>\n",
       "      <td>14.082412</td>\n",
       "      <td>Oceania</td>\n",
       "    </tr>\n",
       "    <tr>\n",
       "      <th>181</th>\n",
       "      <td>Zambia</td>\n",
       "      <td>24.308592</td>\n",
       "      <td>Africa</td>\n",
       "    </tr>\n",
       "    <tr>\n",
       "      <th>182</th>\n",
       "      <td>Zimbabwe</td>\n",
       "      <td>19.494180</td>\n",
       "      <td>Africa</td>\n",
       "    </tr>\n",
       "  </tbody>\n",
       "</table>\n",
       "<p>183 rows × 3 columns</p>\n",
       "</div>"
      ],
      "text/plain": [
       "       Country Name  2020 [YR2020]      continent\n",
       "0       Afghanistan      46.087094           Asia\n",
       "1           Albania      15.707004         Europe\n",
       "2           Algeria      25.552656         Africa\n",
       "3    American Samoa       6.715147        Oceania\n",
       "4           Andorra       9.080281         Europe\n",
       "..              ...            ...            ...\n",
       "178         Uruguay      10.571792  South America\n",
       "179      Uzbekistan      31.960429           Asia\n",
       "180         Vanuatu      14.082412        Oceania\n",
       "181          Zambia      24.308592         Africa\n",
       "182        Zimbabwe      19.494180         Africa\n",
       "\n",
       "[183 rows x 3 columns]"
      ]
     },
     "execution_count": 22,
     "metadata": {},
     "output_type": "execute_result"
    }
   ],
   "source": [
    "df_2020"
   ]
  },
  {
   "cell_type": "markdown",
   "id": "3d4e187f-6e64-46b6-84fc-408771783cde",
   "metadata": {},
   "source": [
    "## Estadísticas básicas agrupadas"
   ]
  },
  {
   "cell_type": "markdown",
   "id": "aa41dee7-99dc-4585-b342-5f0d7b868a7d",
   "metadata": {},
   "source": [
    "Agrupamos nuestro conjunto de datos a la espera de que realicemos una operación sobre él"
   ]
  },
  {
   "cell_type": "code",
   "execution_count": 24,
   "id": "5e5bef64",
   "metadata": {},
   "outputs": [],
   "source": [
    "gr = df_2020.groupby(\"continent\")[\"2020 [YR2020]\"]\n",
    "\n"
   ]
  },
  {
   "cell_type": "markdown",
   "id": "60e4ed56-76da-4e9f-9b0f-a7f5885c8453",
   "metadata": {},
   "source": [
    "La función para la media es la función mean()"
   ]
  },
  {
   "cell_type": "code",
   "execution_count": 66,
   "id": "219b788c",
   "metadata": {},
   "outputs": [
    {
     "data": {
      "text/plain": [
       "continent\n",
       "Africa           34.661497\n",
       "Asia             31.833867\n",
       "Europe           12.438079\n",
       "North America    17.175194\n",
       "Oceania          10.301948\n",
       "South America    18.595047\n",
       "Name: 2020 [YR2020], dtype: float64"
      ]
     },
     "execution_count": 66,
     "metadata": {},
     "output_type": "execute_result"
    }
   ],
   "source": [
    "gr.mean()\n"
   ]
  },
  {
   "cell_type": "markdown",
   "id": "2656e3c7-0e8e-44c1-9653-9255fd625831",
   "metadata": {},
   "source": [
    "La función para la media es la función median()"
   ]
  },
  {
   "cell_type": "code",
   "execution_count": 67,
   "id": "e34629ea",
   "metadata": {},
   "outputs": [
    {
     "data": {
      "text/plain": [
       "continent\n",
       "Africa           30.737348\n",
       "Asia             30.579633\n",
       "Europe           11.216066\n",
       "North America    19.762507\n",
       "Oceania          10.220125\n",
       "South America    16.657021\n",
       "Name: 2020 [YR2020], dtype: float64"
      ]
     },
     "execution_count": 67,
     "metadata": {},
     "output_type": "execute_result"
    }
   ],
   "source": [
    "gr.median()\n"
   ]
  },
  {
   "cell_type": "markdown",
   "id": "18af0a7d-16c7-4048-b9da-5f9eb787faa7",
   "metadata": {},
   "source": [
    "La función para la moda no existe directamente por lo que tendremos que usar una función apply"
   ]
  },
  {
   "cell_type": "code",
   "execution_count": 25,
   "id": "097821a6",
   "metadata": {},
   "outputs": [
    {
     "data": {
      "text/plain": [
       "continent\n",
       "Africa            8.499839\n",
       "Asia              7.597265\n",
       "Europe            4.895181\n",
       "North America     6.556248\n",
       "Oceania           5.917801\n",
       "South America    10.089160\n",
       "Name: 2020 [YR2020], dtype: float64"
      ]
     },
     "execution_count": 25,
     "metadata": {},
     "output_type": "execute_result"
    }
   ],
   "source": [
    "gr.apply(lambda x: x.mode().iat[0])"
   ]
  },
  {
   "cell_type": "markdown",
   "id": "265dcf31-8f6a-4c77-a2b3-7659d5a36730",
   "metadata": {},
   "source": [
    "Creamos un dataframe en pandas en el que integramos todas estas métricas a la vez. Notamos que la construcción de este dataframe se ha realizado mediante un diccionario de Python."
   ]
  },
  {
   "cell_type": "code",
   "execution_count": 69,
   "id": "1ee224e1",
   "metadata": {},
   "outputs": [
    {
     "name": "stdout",
     "output_type": "stream",
     "text": [
      "               media  mediana       moda\n",
      "continent                               \n",
      "Africa         34.66    30.74   8.499839\n",
      "Asia           31.83    30.58  12.012391\n",
      "Europe         12.44    11.22   4.895181\n",
      "North America  17.18    19.76   6.556248\n",
      "Oceania        10.30    10.22   5.917801\n",
      "South America  18.60    16.66  10.089160\n"
     ]
    }
   ],
   "source": [
    "stats = pd.DataFrame({\n",
    "    \"media\": gr.mean().round(2),\n",
    "    \"mediana\": gr.median().round(2),\n",
    "    \"moda\": gr.apply(lambda x: x.mode().iat[0])\n",
    "})\n",
    "print(stats)"
   ]
  },
  {
   "cell_type": "markdown",
   "id": "bd010378-dbe7-46c3-861f-42743868f02b",
   "metadata": {},
   "source": [
    "Con la función de pandas cut podemos dividir en bins nuestros datos y asignarle etiquetas."
   ]
  },
  {
   "cell_type": "code",
   "execution_count": null,
   "id": "5619d0c3",
   "metadata": {},
   "outputs": [],
   "source": [
    "bins = [0, 5, 10, 25, 50, 100]\n",
    "labels = ['0–5','5–10','10–25','25–50','50+']\n",
    "df_2020[\"rango_pm25\"] = pd.cut(df_2020[\"2020 [YR2020]\"], bins=bins, labels=labels, include_lowest=True)"
   ]
  },
  {
   "cell_type": "code",
   "execution_count": 71,
   "id": "98af0522",
   "metadata": {},
   "outputs": [
    {
     "data": {
      "text/html": [
       "<div>\n",
       "<style scoped>\n",
       "    .dataframe tbody tr th:only-of-type {\n",
       "        vertical-align: middle;\n",
       "    }\n",
       "\n",
       "    .dataframe tbody tr th {\n",
       "        vertical-align: top;\n",
       "    }\n",
       "\n",
       "    .dataframe thead th {\n",
       "        text-align: right;\n",
       "    }\n",
       "</style>\n",
       "<table border=\"1\" class=\"dataframe\">\n",
       "  <thead>\n",
       "    <tr style=\"text-align: right;\">\n",
       "      <th></th>\n",
       "      <th>Series Code</th>\n",
       "      <th>Country Name</th>\n",
       "      <th>2020 [YR2020]</th>\n",
       "      <th>rango_pm25</th>\n",
       "      <th>continent</th>\n",
       "    </tr>\n",
       "  </thead>\n",
       "  <tbody>\n",
       "    <tr>\n",
       "      <th>0</th>\n",
       "      <td>EN.ATM.PM25.MC.M3</td>\n",
       "      <td>Afghanistan</td>\n",
       "      <td>46.087094</td>\n",
       "      <td>25–50</td>\n",
       "      <td>Asia</td>\n",
       "    </tr>\n",
       "    <tr>\n",
       "      <th>1</th>\n",
       "      <td>EN.ATM.PM25.MC.M3</td>\n",
       "      <td>Albania</td>\n",
       "      <td>15.707004</td>\n",
       "      <td>10–25</td>\n",
       "      <td>Europe</td>\n",
       "    </tr>\n",
       "    <tr>\n",
       "      <th>2</th>\n",
       "      <td>EN.ATM.PM25.MC.M3</td>\n",
       "      <td>Algeria</td>\n",
       "      <td>25.552656</td>\n",
       "      <td>25–50</td>\n",
       "      <td>Africa</td>\n",
       "    </tr>\n",
       "    <tr>\n",
       "      <th>3</th>\n",
       "      <td>EN.ATM.PM25.MC.M3</td>\n",
       "      <td>American Samoa</td>\n",
       "      <td>6.715147</td>\n",
       "      <td>5–10</td>\n",
       "      <td>Oceania</td>\n",
       "    </tr>\n",
       "    <tr>\n",
       "      <th>4</th>\n",
       "      <td>EN.ATM.PM25.MC.M3</td>\n",
       "      <td>Andorra</td>\n",
       "      <td>9.080281</td>\n",
       "      <td>5–10</td>\n",
       "      <td>Europe</td>\n",
       "    </tr>\n",
       "    <tr>\n",
       "      <th>...</th>\n",
       "      <td>...</td>\n",
       "      <td>...</td>\n",
       "      <td>...</td>\n",
       "      <td>...</td>\n",
       "      <td>...</td>\n",
       "    </tr>\n",
       "    <tr>\n",
       "      <th>182</th>\n",
       "      <td>EN.ATM.PM25.MC.M3</td>\n",
       "      <td>Uruguay</td>\n",
       "      <td>10.571792</td>\n",
       "      <td>10–25</td>\n",
       "      <td>South America</td>\n",
       "    </tr>\n",
       "    <tr>\n",
       "      <th>183</th>\n",
       "      <td>EN.ATM.PM25.MC.M3</td>\n",
       "      <td>Uzbekistan</td>\n",
       "      <td>31.960429</td>\n",
       "      <td>25–50</td>\n",
       "      <td>Asia</td>\n",
       "    </tr>\n",
       "    <tr>\n",
       "      <th>184</th>\n",
       "      <td>EN.ATM.PM25.MC.M3</td>\n",
       "      <td>Vanuatu</td>\n",
       "      <td>14.082412</td>\n",
       "      <td>10–25</td>\n",
       "      <td>Oceania</td>\n",
       "    </tr>\n",
       "    <tr>\n",
       "      <th>185</th>\n",
       "      <td>EN.ATM.PM25.MC.M3</td>\n",
       "      <td>Zambia</td>\n",
       "      <td>24.308592</td>\n",
       "      <td>10–25</td>\n",
       "      <td>Africa</td>\n",
       "    </tr>\n",
       "    <tr>\n",
       "      <th>186</th>\n",
       "      <td>EN.ATM.PM25.MC.M3</td>\n",
       "      <td>Zimbabwe</td>\n",
       "      <td>19.494180</td>\n",
       "      <td>10–25</td>\n",
       "      <td>Africa</td>\n",
       "    </tr>\n",
       "  </tbody>\n",
       "</table>\n",
       "<p>187 rows × 5 columns</p>\n",
       "</div>"
      ],
      "text/plain": [
       "           Series Code    Country Name  2020 [YR2020] rango_pm25   \n",
       "0    EN.ATM.PM25.MC.M3     Afghanistan      46.087094      25–50  \\\n",
       "1    EN.ATM.PM25.MC.M3         Albania      15.707004      10–25   \n",
       "2    EN.ATM.PM25.MC.M3         Algeria      25.552656      25–50   \n",
       "3    EN.ATM.PM25.MC.M3  American Samoa       6.715147       5–10   \n",
       "4    EN.ATM.PM25.MC.M3         Andorra       9.080281       5–10   \n",
       "..                 ...             ...            ...        ...   \n",
       "182  EN.ATM.PM25.MC.M3         Uruguay      10.571792      10–25   \n",
       "183  EN.ATM.PM25.MC.M3      Uzbekistan      31.960429      25–50   \n",
       "184  EN.ATM.PM25.MC.M3         Vanuatu      14.082412      10–25   \n",
       "185  EN.ATM.PM25.MC.M3          Zambia      24.308592      10–25   \n",
       "186  EN.ATM.PM25.MC.M3        Zimbabwe      19.494180      10–25   \n",
       "\n",
       "         continent  \n",
       "0             Asia  \n",
       "1           Europe  \n",
       "2           Africa  \n",
       "3          Oceania  \n",
       "4           Europe  \n",
       "..             ...  \n",
       "182  South America  \n",
       "183           Asia  \n",
       "184        Oceania  \n",
       "185         Africa  \n",
       "186         Africa  \n",
       "\n",
       "[187 rows x 5 columns]"
      ]
     },
     "execution_count": 71,
     "metadata": {},
     "output_type": "execute_result"
    }
   ],
   "source": [
    "df_2020"
   ]
  },
  {
   "cell_type": "markdown",
   "id": "161658d4-a650-4d11-b993-e2b83ea778c1",
   "metadata": {},
   "source": [
    "Finalmente, con la función crosstab podemos visualizarlas como una matriz."
   ]
  },
  {
   "cell_type": "code",
   "execution_count": 72,
   "id": "5ccdbf66",
   "metadata": {},
   "outputs": [
    {
     "name": "stdout",
     "output_type": "stream",
     "text": [
      "rango_pm25     0–5  5–10  10–25  25–50  50+\n",
      "continent                                  \n",
      "Africa           0     2     15     22   10\n",
      "Asia             0     0     15     16    4\n",
      "Europe           1    15     23      2    0\n",
      "North America    0     5     15      2    0\n",
      "Oceania          0     8      8      0    0\n",
      "South America    0     0      8      3    0\n"
     ]
    }
   ],
   "source": [
    "tabla_cruce = pd.crosstab(df_2020[\"continent\"], df_2020[\"rango_pm25\"])\n",
    "print(tabla_cruce)"
   ]
  },
  {
   "cell_type": "markdown",
   "id": "512c8d41",
   "metadata": {},
   "source": [
    "## Ejercicio propuesto (30-40 min)"
   ]
  },
  {
   "cell_type": "markdown",
   "id": "a71cee1b",
   "metadata": {},
   "source": [
    "1. Realiza un gráfico (el que creas que sea oportuno) que muestre la tasa de crecimiento en la polución por continentes entre 2019 y 2020.\n",
    "\n",
    "2. Media, moda y mediana por continente del año 2018.\n",
    "\n",
    "3. Calcula la varianza con una función apply() para el año 2017.\n",
    "\n",
    "4. Añadir al dataframe de 2020 la columna media respecto al continente al que pertenece y crear un campo para comparar la diferencia respecto a su continente en base a esta métrica.\n",
    "\n",
    "5. Crea un gráfico de lineas que mida el índice de polución con una línea por continente e indexado en el tiempo."
   ]
  },
  {
   "cell_type": "markdown",
   "id": "e7849791-63dc-4fd6-9681-7726bd059bd9",
   "metadata": {},
   "source": [
    "## Recursos adicionales\n",
    "\n",
    "- Análisis de datos con Pandas y Numpy: https://medium.com/@juans3/analisis-de-datos-con-pandas-y-numpy-8551d5953062\n",
    "- Guía para principiantes https://www.freecodecamp.org/espanol/news/como-empezar-con-pandas-en-python-una-guia-para-principiantes/"
   ]
  }
 ],
 "metadata": {
  "kernelspec": {
   "display_name": "Python 3 (ipykernel)",
   "language": "python",
   "name": "python3"
  },
  "language_info": {
   "codemirror_mode": {
    "name": "ipython",
    "version": 3
   },
   "file_extension": ".py",
   "mimetype": "text/x-python",
   "name": "python",
   "nbconvert_exporter": "python",
   "pygments_lexer": "ipython3",
   "version": "3.12.7"
  }
 },
 "nbformat": 4,
 "nbformat_minor": 5
}
