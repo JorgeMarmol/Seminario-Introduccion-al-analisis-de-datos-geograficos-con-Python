{
 "cells": [
  {
   "cell_type": "markdown",
   "id": "0ffc971e-bd8f-41ad-970c-4dca6538abf1",
   "metadata": {},
   "source": [
    "# Ejercicio 1"
   ]
  },
  {
   "cell_type": "code",
   "execution_count": null,
   "id": "7d03ff51-ea63-48f3-9edc-d27478c96842",
   "metadata": {},
   "outputs": [],
   "source": [
    "def repite(numero: int, texto: str):\n",
    "    if numero >= 1:\n",
    "        return texto * numero\n",
    "    else:\n",
    "        print(\"El número tiene que ser mayor o igual que 1\")\n"
   ]
  },
  {
   "cell_type": "markdown",
   "id": "905d66d2-694b-4836-87d9-d7af409563dc",
   "metadata": {},
   "source": [
    "# Ejercicio 2"
   ]
  },
  {
   "cell_type": "code",
   "execution_count": null,
   "id": "730b383e-207f-43d9-966a-1db2a027392d",
   "metadata": {},
   "outputs": [],
   "source": [
    "import pandas as pd\n",
    "\n",
    "url = \"https://ourairports.com/data/airports.csv\"\n",
    "df = pd.read_csv(url)\n"
   ]
  },
  {
   "cell_type": "code",
   "execution_count": null,
   "id": "e1b26387-5094-4706-bdcb-4a0132f40368",
   "metadata": {},
   "outputs": [],
   "source": [
    "print(df.head())\n"
   ]
  },
  {
   "cell_type": "code",
   "execution_count": null,
   "id": "74a27258-b147-4c6a-a1bd-d46cd3b4bf6b",
   "metadata": {},
   "outputs": [],
   "source": [
    "print(df.columns)\n",
    "print(df.info())\n",
    "print(df.describe(include=\"all\"))  # incluye datos categóricos también\n"
   ]
  },
  {
   "cell_type": "code",
   "execution_count": null,
   "id": "a6fac7de-f4b3-4e81-a63e-4ef4bd33abfe",
   "metadata": {},
   "outputs": [],
   "source": [
    "df_relevante = df[[\"name\", \"iso_country\", \"type\", \"continent\", \"elevation_ft\"]]\n"
   ]
  },
  {
   "cell_type": "code",
   "execution_count": null,
   "id": "1260dd16-1e36-4f4e-956a-4aacf1df5852",
   "metadata": {},
   "outputs": [],
   "source": [
    "large_airports = df[df[\"type\"] == \"large_airport\"].head(10)\n",
    "print(large_airports)\n"
   ]
  },
  {
   "cell_type": "code",
   "execution_count": null,
   "id": "79a2f3a4-8e48-42a6-88ab-ae9b852bb128",
   "metadata": {},
   "outputs": [],
   "source": [
    "print(df[\"type\"].unique())\n"
   ]
  },
  {
   "cell_type": "code",
   "execution_count": null,
   "id": "0ed60c08-2222-419f-9fb7-c96002ae6355",
   "metadata": {},
   "outputs": [],
   "source": [
    "print(df[[\"iso_country\", \"continent\"]].drop_duplicates())\n"
   ]
  },
  {
   "cell_type": "code",
   "execution_count": null,
   "id": "0e3cb000-4b35-4ca1-bef2-822e360fb2ac",
   "metadata": {},
   "outputs": [],
   "source": [
    "aeropuertos_por_pais = df.groupby(\"iso_country\")[\"id\"].count().sort_values(ascending=False)\n"
   ]
  },
  {
   "cell_type": "code",
   "execution_count": null,
   "id": "06dfbbdc-adcf-4a13-8185-c7279c08ed66",
   "metadata": {},
   "outputs": [],
   "source": [
    "aeropuertos_por_pais.to_csv(\"aeropuertos_por_pais.csv\")\n"
   ]
  },
  {
   "cell_type": "code",
   "execution_count": null,
   "id": "cd6abc53-214e-44c0-b9f5-c063741b9ca1",
   "metadata": {},
   "outputs": [],
   "source": [
    "aeropuertos_por_tipo = df.groupby(\"type\")[\"id\"].count().sort_values(ascending=False)\n"
   ]
  }
 ],
 "metadata": {
  "kernelspec": {
   "display_name": "Python 3 (ipykernel)",
   "language": "python",
   "name": "python3"
  },
  "language_info": {
   "codemirror_mode": {
    "name": "ipython",
    "version": 3
   },
   "file_extension": ".py",
   "mimetype": "text/x-python",
   "name": "python",
   "nbconvert_exporter": "python",
   "pygments_lexer": "ipython3",
   "version": "3.12.7"
  }
 },
 "nbformat": 4,
 "nbformat_minor": 5
}
