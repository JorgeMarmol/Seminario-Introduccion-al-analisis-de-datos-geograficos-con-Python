{
 "cells": [
  {
   "cell_type": "markdown",
   "id": "a87dc0ef",
   "metadata": {},
   "source": [
    "# Manipulación de datos con Pandas\n"
   ]
  },
  {
   "cell_type": "markdown",
   "id": "4b035970",
   "metadata": {},
   "source": [
    "Hay multitud de formas de consultar datos tabulares. Lo más común es que nuestros datos se encuentren en una base de datos y consultemos con un lenguaje de consultas como SQL. Python tiene sus propias librerías para consultar y manipular datos pero la más común es Pandas."
   ]
  },
  {
   "cell_type": "markdown",
   "id": "be8bbf1f",
   "metadata": {},
   "source": [
    "Pandas es una librería espacializada en el manejo y análisis de estructuras de datos:\n",
    "\n",
    "- Define nuevas estructuras de datos basadas en los arrays de la librería NumPy pero con nuevas funcionalidades.\n",
    "- Permite leer y escribir fácilmente ficheros en formato CSV, Excel y bases de datos SQL.\n",
    "- Permite acceder a los datos mediante índices o nombres para filas y columnas.\n",
    "- Ofrece métodos para reordenar, dividir y combinar conjuntos de datos.\n",
    "- Permite trabajar con series temporales.\n",
    "- Realiza todas estas operaciones de manera muy eficiente."
   ]
  },
  {
   "cell_type": "markdown",
   "id": "1effae83",
   "metadata": {},
   "source": [
    "Aunque Pandas tiene varias estructuras de datos, nos centraremos en la 2-Dimensional (llamadas DataFrames) y en las 1-dimensionales (llamadas Series)."
   ]
  },
  {
   "cell_type": "markdown",
   "id": "918f5406",
   "metadata": {},
   "source": [
    "Un DataFrame es una unión de varias Series. Si un Dataframe es una tabla, una Serie es una columna de esa tabla."
   ]
  },
  {
   "cell_type": "markdown",
   "id": "958639a0",
   "metadata": {},
   "source": [
    "Comenzando importando la librería"
   ]
  },
  {
   "cell_type": "code",
   "execution_count": 1,
   "id": "021d6ff0",
   "metadata": {},
   "outputs": [],
   "source": [
    "import pandas as pd # pd es el alias a la librería pandas y esto es un comentario en el código"
   ]
  },
  {
   "cell_type": "markdown",
   "id": "cf52cb18",
   "metadata": {},
   "source": [
    "## 2.1 Leer un CSV con Pandas"
   ]
  },
  {
   "cell_type": "markdown",
   "id": "29334b61",
   "metadata": {},
   "source": [
    "Lo primero es lo básico, leer nuestros datos. Pandas admite bastantes formatos como fuente: excel, pdf, parquet,etc... Pero nosotros nos focalizaremos en este seminario en el más básico y común que es CSV. \n",
    "\n",
    "CSV es un formato de texto plano con un delimitador que suele ser una coma. La primera fila o nombre de las columnas se le llama header. Por defecto, el delimitador de pandas es la coma y el header está incluido, sin embargo para este primer ejemplo lo especificaremos explícitamente."
   ]
  },
  {
   "cell_type": "code",
   "execution_count": 27,
   "id": "86f6d461-8091-4e37-aee4-8d0b0a1398df",
   "metadata": {},
   "outputs": [],
   "source": [
    "df = pd.read_csv('data/worldcities.csv',header=0,delimiter=',')"
   ]
  },
  {
   "cell_type": "markdown",
   "id": "85b1a726-373c-4bf2-b74d-cbf01faad401",
   "metadata": {},
   "source": [
    "También podemos leer el csv especificando una ruta completa en nuestro equipo."
   ]
  },
  {
   "cell_type": "code",
   "execution_count": 28,
   "id": "f97f5e90",
   "metadata": {},
   "outputs": [],
   "source": [
    "df = pd.read_csv('C:/Users/Jorge/Desktop/Seminario - Introduccion al analisis de datos geograficos con Python/data/worldcities.csv')"
   ]
  },
  {
   "cell_type": "markdown",
   "id": "5132bb4f-43b9-4eb2-8d51-5997e82d19f3",
   "metadata": {},
   "source": [
    "O incluso una ruta en internet."
   ]
  },
  {
   "cell_type": "markdown",
   "id": "d8e0f6c8",
   "metadata": {},
   "source": [
    "Notamos que el tipo de datos es propio de la librería y en este caso es DataFrame."
   ]
  },
  {
   "cell_type": "code",
   "execution_count": 6,
   "id": "a00eff59",
   "metadata": {},
   "outputs": [
    {
     "data": {
      "text/plain": [
       "pandas.core.frame.DataFrame"
      ]
     },
     "execution_count": 6,
     "metadata": {},
     "output_type": "execute_result"
    }
   ],
   "source": [
    "type(df)"
   ]
  },
  {
   "cell_type": "markdown",
   "id": "0e9613e7",
   "metadata": {},
   "source": [
    "Usamos print para mostrar en pantalla el dataframe."
   ]
  },
  {
   "cell_type": "code",
   "execution_count": 7,
   "id": "deacf1cd",
   "metadata": {},
   "outputs": [
    {
     "name": "stdout",
     "output_type": "stream",
     "text": [
      "              city   city_ascii      lat       lng      country iso2 iso3  \\\n",
      "0            Tokyo        Tokyo  35.6839  139.7744        Japan   JP  JPN   \n",
      "1          Jakarta      Jakarta  -6.2146  106.8451    Indonesia   ID  IDN   \n",
      "2            Delhi        Delhi  28.6667   77.2167        India   IN  IND   \n",
      "3           Manila       Manila  14.6000  120.9833  Philippines   PH  PHL   \n",
      "4        São Paulo    Sao Paulo -23.5504  -46.6339       Brazil   BR  BRA   \n",
      "...            ...          ...      ...       ...          ...  ...  ...   \n",
      "42900       Tukchi       Tukchi  57.3670  139.5000       Russia   RU  RUS   \n",
      "42901        Numto        Numto  63.6667   71.3333       Russia   RU  RUS   \n",
      "42902         Nord         Nord  81.7166  -17.8000    Greenland   GL  GRL   \n",
      "42903  Timmiarmiut  Timmiarmiut  62.5333  -42.2167    Greenland   GL  GRL   \n",
      "42904      Nordvik      Nordvik  74.0165  111.5100       Russia   RU  RUS   \n",
      "\n",
      "                                     admin_name  capital  population  \\\n",
      "0                                         Tōkyō  primary  39105000.0   \n",
      "1                                       Jakarta  primary  35362000.0   \n",
      "2                                         Delhi    admin  31870000.0   \n",
      "3                                        Manila  primary  23971000.0   \n",
      "4                                     São Paulo    admin  22495000.0   \n",
      "...                                         ...      ...         ...   \n",
      "42900                         Khabarovskiy Kray      NaN        10.0   \n",
      "42901  Khanty-Mansiyskiy Avtonomnyy Okrug-Yugra      NaN        10.0   \n",
      "42902                                Sermersooq      NaN        10.0   \n",
      "42903                                  Kujalleq      NaN        10.0   \n",
      "42904                        Krasnoyarskiy Kray      NaN         0.0   \n",
      "\n",
      "               id  \n",
      "0      1392685764  \n",
      "1      1360771077  \n",
      "2      1356872604  \n",
      "3      1608618140  \n",
      "4      1076532519  \n",
      "...           ...  \n",
      "42900  1643472801  \n",
      "42901  1643985006  \n",
      "42902  1304217709  \n",
      "42903  1304206491  \n",
      "42904  1643587468  \n",
      "\n",
      "[42905 rows x 11 columns]\n"
     ]
    }
   ],
   "source": [
    "print(df)"
   ]
  },
  {
   "cell_type": "markdown",
   "id": "317cbde9",
   "metadata": {},
   "source": [
    "## 2.2 Explorar datos"
   ]
  },
  {
   "cell_type": "markdown",
   "id": "eb72d6c3",
   "metadata": {},
   "source": [
    "El método print muestra el dato tal y como es pero Pandas tiene un par de métodos y atributos para hacernos más claro la exploración, estos son head, columns, describe, info"
   ]
  },
  {
   "cell_type": "markdown",
   "id": "b4ceeb53",
   "metadata": {},
   "source": [
    "Muestra los 5 primeros pero especificando el número de registros podemos ver más."
   ]
  },
  {
   "cell_type": "code",
   "execution_count": 8,
   "id": "3d17876a",
   "metadata": {},
   "outputs": [
    {
     "data": {
      "text/html": [
       "<div>\n",
       "<style scoped>\n",
       "    .dataframe tbody tr th:only-of-type {\n",
       "        vertical-align: middle;\n",
       "    }\n",
       "\n",
       "    .dataframe tbody tr th {\n",
       "        vertical-align: top;\n",
       "    }\n",
       "\n",
       "    .dataframe thead th {\n",
       "        text-align: right;\n",
       "    }\n",
       "</style>\n",
       "<table border=\"1\" class=\"dataframe\">\n",
       "  <thead>\n",
       "    <tr style=\"text-align: right;\">\n",
       "      <th></th>\n",
       "      <th>city</th>\n",
       "      <th>city_ascii</th>\n",
       "      <th>lat</th>\n",
       "      <th>lng</th>\n",
       "      <th>country</th>\n",
       "      <th>iso2</th>\n",
       "      <th>iso3</th>\n",
       "      <th>admin_name</th>\n",
       "      <th>capital</th>\n",
       "      <th>population</th>\n",
       "      <th>id</th>\n",
       "    </tr>\n",
       "  </thead>\n",
       "  <tbody>\n",
       "    <tr>\n",
       "      <th>0</th>\n",
       "      <td>Tokyo</td>\n",
       "      <td>Tokyo</td>\n",
       "      <td>35.6839</td>\n",
       "      <td>139.7744</td>\n",
       "      <td>Japan</td>\n",
       "      <td>JP</td>\n",
       "      <td>JPN</td>\n",
       "      <td>Tōkyō</td>\n",
       "      <td>primary</td>\n",
       "      <td>39105000.0</td>\n",
       "      <td>1392685764</td>\n",
       "    </tr>\n",
       "    <tr>\n",
       "      <th>1</th>\n",
       "      <td>Jakarta</td>\n",
       "      <td>Jakarta</td>\n",
       "      <td>-6.2146</td>\n",
       "      <td>106.8451</td>\n",
       "      <td>Indonesia</td>\n",
       "      <td>ID</td>\n",
       "      <td>IDN</td>\n",
       "      <td>Jakarta</td>\n",
       "      <td>primary</td>\n",
       "      <td>35362000.0</td>\n",
       "      <td>1360771077</td>\n",
       "    </tr>\n",
       "    <tr>\n",
       "      <th>2</th>\n",
       "      <td>Delhi</td>\n",
       "      <td>Delhi</td>\n",
       "      <td>28.6667</td>\n",
       "      <td>77.2167</td>\n",
       "      <td>India</td>\n",
       "      <td>IN</td>\n",
       "      <td>IND</td>\n",
       "      <td>Delhi</td>\n",
       "      <td>admin</td>\n",
       "      <td>31870000.0</td>\n",
       "      <td>1356872604</td>\n",
       "    </tr>\n",
       "    <tr>\n",
       "      <th>3</th>\n",
       "      <td>Manila</td>\n",
       "      <td>Manila</td>\n",
       "      <td>14.6000</td>\n",
       "      <td>120.9833</td>\n",
       "      <td>Philippines</td>\n",
       "      <td>PH</td>\n",
       "      <td>PHL</td>\n",
       "      <td>Manila</td>\n",
       "      <td>primary</td>\n",
       "      <td>23971000.0</td>\n",
       "      <td>1608618140</td>\n",
       "    </tr>\n",
       "    <tr>\n",
       "      <th>4</th>\n",
       "      <td>São Paulo</td>\n",
       "      <td>Sao Paulo</td>\n",
       "      <td>-23.5504</td>\n",
       "      <td>-46.6339</td>\n",
       "      <td>Brazil</td>\n",
       "      <td>BR</td>\n",
       "      <td>BRA</td>\n",
       "      <td>São Paulo</td>\n",
       "      <td>admin</td>\n",
       "      <td>22495000.0</td>\n",
       "      <td>1076532519</td>\n",
       "    </tr>\n",
       "  </tbody>\n",
       "</table>\n",
       "</div>"
      ],
      "text/plain": [
       "        city city_ascii      lat       lng      country iso2 iso3 admin_name  \\\n",
       "0      Tokyo      Tokyo  35.6839  139.7744        Japan   JP  JPN      Tōkyō   \n",
       "1    Jakarta    Jakarta  -6.2146  106.8451    Indonesia   ID  IDN    Jakarta   \n",
       "2      Delhi      Delhi  28.6667   77.2167        India   IN  IND      Delhi   \n",
       "3     Manila     Manila  14.6000  120.9833  Philippines   PH  PHL     Manila   \n",
       "4  São Paulo  Sao Paulo -23.5504  -46.6339       Brazil   BR  BRA  São Paulo   \n",
       "\n",
       "   capital  population          id  \n",
       "0  primary  39105000.0  1392685764  \n",
       "1  primary  35362000.0  1360771077  \n",
       "2    admin  31870000.0  1356872604  \n",
       "3  primary  23971000.0  1608618140  \n",
       "4    admin  22495000.0  1076532519  "
      ]
     },
     "execution_count": 8,
     "metadata": {},
     "output_type": "execute_result"
    }
   ],
   "source": [
    "df.head()"
   ]
  },
  {
   "cell_type": "code",
   "execution_count": 9,
   "id": "8a54da20",
   "metadata": {},
   "outputs": [
    {
     "data": {
      "text/html": [
       "<div>\n",
       "<style scoped>\n",
       "    .dataframe tbody tr th:only-of-type {\n",
       "        vertical-align: middle;\n",
       "    }\n",
       "\n",
       "    .dataframe tbody tr th {\n",
       "        vertical-align: top;\n",
       "    }\n",
       "\n",
       "    .dataframe thead th {\n",
       "        text-align: right;\n",
       "    }\n",
       "</style>\n",
       "<table border=\"1\" class=\"dataframe\">\n",
       "  <thead>\n",
       "    <tr style=\"text-align: right;\">\n",
       "      <th></th>\n",
       "      <th>city</th>\n",
       "      <th>city_ascii</th>\n",
       "      <th>lat</th>\n",
       "      <th>lng</th>\n",
       "      <th>country</th>\n",
       "      <th>iso2</th>\n",
       "      <th>iso3</th>\n",
       "      <th>admin_name</th>\n",
       "      <th>capital</th>\n",
       "      <th>population</th>\n",
       "      <th>id</th>\n",
       "    </tr>\n",
       "  </thead>\n",
       "  <tbody>\n",
       "    <tr>\n",
       "      <th>0</th>\n",
       "      <td>Tokyo</td>\n",
       "      <td>Tokyo</td>\n",
       "      <td>35.6839</td>\n",
       "      <td>139.7744</td>\n",
       "      <td>Japan</td>\n",
       "      <td>JP</td>\n",
       "      <td>JPN</td>\n",
       "      <td>Tōkyō</td>\n",
       "      <td>primary</td>\n",
       "      <td>39105000.0</td>\n",
       "      <td>1392685764</td>\n",
       "    </tr>\n",
       "    <tr>\n",
       "      <th>1</th>\n",
       "      <td>Jakarta</td>\n",
       "      <td>Jakarta</td>\n",
       "      <td>-6.2146</td>\n",
       "      <td>106.8451</td>\n",
       "      <td>Indonesia</td>\n",
       "      <td>ID</td>\n",
       "      <td>IDN</td>\n",
       "      <td>Jakarta</td>\n",
       "      <td>primary</td>\n",
       "      <td>35362000.0</td>\n",
       "      <td>1360771077</td>\n",
       "    </tr>\n",
       "    <tr>\n",
       "      <th>2</th>\n",
       "      <td>Delhi</td>\n",
       "      <td>Delhi</td>\n",
       "      <td>28.6667</td>\n",
       "      <td>77.2167</td>\n",
       "      <td>India</td>\n",
       "      <td>IN</td>\n",
       "      <td>IND</td>\n",
       "      <td>Delhi</td>\n",
       "      <td>admin</td>\n",
       "      <td>31870000.0</td>\n",
       "      <td>1356872604</td>\n",
       "    </tr>\n",
       "    <tr>\n",
       "      <th>3</th>\n",
       "      <td>Manila</td>\n",
       "      <td>Manila</td>\n",
       "      <td>14.6000</td>\n",
       "      <td>120.9833</td>\n",
       "      <td>Philippines</td>\n",
       "      <td>PH</td>\n",
       "      <td>PHL</td>\n",
       "      <td>Manila</td>\n",
       "      <td>primary</td>\n",
       "      <td>23971000.0</td>\n",
       "      <td>1608618140</td>\n",
       "    </tr>\n",
       "    <tr>\n",
       "      <th>4</th>\n",
       "      <td>São Paulo</td>\n",
       "      <td>Sao Paulo</td>\n",
       "      <td>-23.5504</td>\n",
       "      <td>-46.6339</td>\n",
       "      <td>Brazil</td>\n",
       "      <td>BR</td>\n",
       "      <td>BRA</td>\n",
       "      <td>São Paulo</td>\n",
       "      <td>admin</td>\n",
       "      <td>22495000.0</td>\n",
       "      <td>1076532519</td>\n",
       "    </tr>\n",
       "    <tr>\n",
       "      <th>5</th>\n",
       "      <td>Seoul</td>\n",
       "      <td>Seoul</td>\n",
       "      <td>37.5600</td>\n",
       "      <td>126.9900</td>\n",
       "      <td>South Korea</td>\n",
       "      <td>KR</td>\n",
       "      <td>KOR</td>\n",
       "      <td>Seoul</td>\n",
       "      <td>primary</td>\n",
       "      <td>22394000.0</td>\n",
       "      <td>1410836482</td>\n",
       "    </tr>\n",
       "    <tr>\n",
       "      <th>6</th>\n",
       "      <td>Mumbai</td>\n",
       "      <td>Mumbai</td>\n",
       "      <td>19.0758</td>\n",
       "      <td>72.8775</td>\n",
       "      <td>India</td>\n",
       "      <td>IN</td>\n",
       "      <td>IND</td>\n",
       "      <td>Mahārāshtra</td>\n",
       "      <td>admin</td>\n",
       "      <td>22186000.0</td>\n",
       "      <td>1356226629</td>\n",
       "    </tr>\n",
       "    <tr>\n",
       "      <th>7</th>\n",
       "      <td>Shanghai</td>\n",
       "      <td>Shanghai</td>\n",
       "      <td>31.1667</td>\n",
       "      <td>121.4667</td>\n",
       "      <td>China</td>\n",
       "      <td>CN</td>\n",
       "      <td>CHN</td>\n",
       "      <td>Shanghai</td>\n",
       "      <td>admin</td>\n",
       "      <td>22118000.0</td>\n",
       "      <td>1156073548</td>\n",
       "    </tr>\n",
       "    <tr>\n",
       "      <th>8</th>\n",
       "      <td>Mexico City</td>\n",
       "      <td>Mexico City</td>\n",
       "      <td>19.4333</td>\n",
       "      <td>-99.1333</td>\n",
       "      <td>Mexico</td>\n",
       "      <td>MX</td>\n",
       "      <td>MEX</td>\n",
       "      <td>Ciudad de México</td>\n",
       "      <td>primary</td>\n",
       "      <td>21505000.0</td>\n",
       "      <td>1484247881</td>\n",
       "    </tr>\n",
       "    <tr>\n",
       "      <th>9</th>\n",
       "      <td>Guangzhou</td>\n",
       "      <td>Guangzhou</td>\n",
       "      <td>23.1288</td>\n",
       "      <td>113.2590</td>\n",
       "      <td>China</td>\n",
       "      <td>CN</td>\n",
       "      <td>CHN</td>\n",
       "      <td>Guangdong</td>\n",
       "      <td>admin</td>\n",
       "      <td>21489000.0</td>\n",
       "      <td>1156237133</td>\n",
       "    </tr>\n",
       "    <tr>\n",
       "      <th>10</th>\n",
       "      <td>Cairo</td>\n",
       "      <td>Cairo</td>\n",
       "      <td>30.0444</td>\n",
       "      <td>31.2358</td>\n",
       "      <td>Egypt</td>\n",
       "      <td>EG</td>\n",
       "      <td>EGY</td>\n",
       "      <td>Al Qāhirah</td>\n",
       "      <td>primary</td>\n",
       "      <td>19787000.0</td>\n",
       "      <td>1818253931</td>\n",
       "    </tr>\n",
       "    <tr>\n",
       "      <th>11</th>\n",
       "      <td>Beijing</td>\n",
       "      <td>Beijing</td>\n",
       "      <td>39.9040</td>\n",
       "      <td>116.4075</td>\n",
       "      <td>China</td>\n",
       "      <td>CN</td>\n",
       "      <td>CHN</td>\n",
       "      <td>Beijing</td>\n",
       "      <td>primary</td>\n",
       "      <td>19437000.0</td>\n",
       "      <td>1156228865</td>\n",
       "    </tr>\n",
       "    <tr>\n",
       "      <th>12</th>\n",
       "      <td>New York</td>\n",
       "      <td>New York</td>\n",
       "      <td>40.6943</td>\n",
       "      <td>-73.9249</td>\n",
       "      <td>United States</td>\n",
       "      <td>US</td>\n",
       "      <td>USA</td>\n",
       "      <td>New York</td>\n",
       "      <td>NaN</td>\n",
       "      <td>18713220.0</td>\n",
       "      <td>1840034016</td>\n",
       "    </tr>\n",
       "    <tr>\n",
       "      <th>13</th>\n",
       "      <td>Kolkāta</td>\n",
       "      <td>Kolkata</td>\n",
       "      <td>22.5727</td>\n",
       "      <td>88.3639</td>\n",
       "      <td>India</td>\n",
       "      <td>IN</td>\n",
       "      <td>IND</td>\n",
       "      <td>West Bengal</td>\n",
       "      <td>admin</td>\n",
       "      <td>18698000.0</td>\n",
       "      <td>1356060520</td>\n",
       "    </tr>\n",
       "    <tr>\n",
       "      <th>14</th>\n",
       "      <td>Moscow</td>\n",
       "      <td>Moscow</td>\n",
       "      <td>55.7558</td>\n",
       "      <td>37.6178</td>\n",
       "      <td>Russia</td>\n",
       "      <td>RU</td>\n",
       "      <td>RUS</td>\n",
       "      <td>Moskva</td>\n",
       "      <td>primary</td>\n",
       "      <td>17693000.0</td>\n",
       "      <td>1643318494</td>\n",
       "    </tr>\n",
       "    <tr>\n",
       "      <th>15</th>\n",
       "      <td>Bangkok</td>\n",
       "      <td>Bangkok</td>\n",
       "      <td>13.7500</td>\n",
       "      <td>100.5167</td>\n",
       "      <td>Thailand</td>\n",
       "      <td>TH</td>\n",
       "      <td>THA</td>\n",
       "      <td>Krung Thep Maha Nakhon</td>\n",
       "      <td>primary</td>\n",
       "      <td>17573000.0</td>\n",
       "      <td>1764068610</td>\n",
       "    </tr>\n",
       "    <tr>\n",
       "      <th>16</th>\n",
       "      <td>Dhaka</td>\n",
       "      <td>Dhaka</td>\n",
       "      <td>23.7289</td>\n",
       "      <td>90.3944</td>\n",
       "      <td>Bangladesh</td>\n",
       "      <td>BD</td>\n",
       "      <td>BGD</td>\n",
       "      <td>Dhaka</td>\n",
       "      <td>primary</td>\n",
       "      <td>16839000.0</td>\n",
       "      <td>1050529279</td>\n",
       "    </tr>\n",
       "    <tr>\n",
       "      <th>17</th>\n",
       "      <td>Buenos Aires</td>\n",
       "      <td>Buenos Aires</td>\n",
       "      <td>-34.5997</td>\n",
       "      <td>-58.3819</td>\n",
       "      <td>Argentina</td>\n",
       "      <td>AR</td>\n",
       "      <td>ARG</td>\n",
       "      <td>Buenos Aires, Ciudad Autónoma de</td>\n",
       "      <td>primary</td>\n",
       "      <td>16216000.0</td>\n",
       "      <td>1032717330</td>\n",
       "    </tr>\n",
       "    <tr>\n",
       "      <th>18</th>\n",
       "      <td>Ōsaka</td>\n",
       "      <td>Osaka</td>\n",
       "      <td>34.7520</td>\n",
       "      <td>135.4582</td>\n",
       "      <td>Japan</td>\n",
       "      <td>JP</td>\n",
       "      <td>JPN</td>\n",
       "      <td>Ōsaka</td>\n",
       "      <td>admin</td>\n",
       "      <td>15490000.0</td>\n",
       "      <td>1392419823</td>\n",
       "    </tr>\n",
       "    <tr>\n",
       "      <th>19</th>\n",
       "      <td>Lagos</td>\n",
       "      <td>Lagos</td>\n",
       "      <td>6.4500</td>\n",
       "      <td>3.4000</td>\n",
       "      <td>Nigeria</td>\n",
       "      <td>NG</td>\n",
       "      <td>NGA</td>\n",
       "      <td>Lagos</td>\n",
       "      <td>minor</td>\n",
       "      <td>15487000.0</td>\n",
       "      <td>1566593751</td>\n",
       "    </tr>\n",
       "  </tbody>\n",
       "</table>\n",
       "</div>"
      ],
      "text/plain": [
       "            city    city_ascii      lat       lng        country iso2 iso3  \\\n",
       "0          Tokyo         Tokyo  35.6839  139.7744          Japan   JP  JPN   \n",
       "1        Jakarta       Jakarta  -6.2146  106.8451      Indonesia   ID  IDN   \n",
       "2          Delhi         Delhi  28.6667   77.2167          India   IN  IND   \n",
       "3         Manila        Manila  14.6000  120.9833    Philippines   PH  PHL   \n",
       "4      São Paulo     Sao Paulo -23.5504  -46.6339         Brazil   BR  BRA   \n",
       "5          Seoul         Seoul  37.5600  126.9900    South Korea   KR  KOR   \n",
       "6         Mumbai        Mumbai  19.0758   72.8775          India   IN  IND   \n",
       "7       Shanghai      Shanghai  31.1667  121.4667          China   CN  CHN   \n",
       "8    Mexico City   Mexico City  19.4333  -99.1333         Mexico   MX  MEX   \n",
       "9      Guangzhou     Guangzhou  23.1288  113.2590          China   CN  CHN   \n",
       "10         Cairo         Cairo  30.0444   31.2358          Egypt   EG  EGY   \n",
       "11       Beijing       Beijing  39.9040  116.4075          China   CN  CHN   \n",
       "12      New York      New York  40.6943  -73.9249  United States   US  USA   \n",
       "13       Kolkāta       Kolkata  22.5727   88.3639          India   IN  IND   \n",
       "14        Moscow        Moscow  55.7558   37.6178         Russia   RU  RUS   \n",
       "15       Bangkok       Bangkok  13.7500  100.5167       Thailand   TH  THA   \n",
       "16         Dhaka         Dhaka  23.7289   90.3944     Bangladesh   BD  BGD   \n",
       "17  Buenos Aires  Buenos Aires -34.5997  -58.3819      Argentina   AR  ARG   \n",
       "18         Ōsaka         Osaka  34.7520  135.4582          Japan   JP  JPN   \n",
       "19         Lagos         Lagos   6.4500    3.4000        Nigeria   NG  NGA   \n",
       "\n",
       "                          admin_name  capital  population          id  \n",
       "0                              Tōkyō  primary  39105000.0  1392685764  \n",
       "1                            Jakarta  primary  35362000.0  1360771077  \n",
       "2                              Delhi    admin  31870000.0  1356872604  \n",
       "3                             Manila  primary  23971000.0  1608618140  \n",
       "4                          São Paulo    admin  22495000.0  1076532519  \n",
       "5                              Seoul  primary  22394000.0  1410836482  \n",
       "6                        Mahārāshtra    admin  22186000.0  1356226629  \n",
       "7                           Shanghai    admin  22118000.0  1156073548  \n",
       "8                   Ciudad de México  primary  21505000.0  1484247881  \n",
       "9                          Guangdong    admin  21489000.0  1156237133  \n",
       "10                        Al Qāhirah  primary  19787000.0  1818253931  \n",
       "11                           Beijing  primary  19437000.0  1156228865  \n",
       "12                          New York      NaN  18713220.0  1840034016  \n",
       "13                       West Bengal    admin  18698000.0  1356060520  \n",
       "14                            Moskva  primary  17693000.0  1643318494  \n",
       "15            Krung Thep Maha Nakhon  primary  17573000.0  1764068610  \n",
       "16                             Dhaka  primary  16839000.0  1050529279  \n",
       "17  Buenos Aires, Ciudad Autónoma de  primary  16216000.0  1032717330  \n",
       "18                             Ōsaka    admin  15490000.0  1392419823  \n",
       "19                             Lagos    minor  15487000.0  1566593751  "
      ]
     },
     "execution_count": 9,
     "metadata": {},
     "output_type": "execute_result"
    }
   ],
   "source": [
    "df.head(20)"
   ]
  },
  {
   "cell_type": "code",
   "execution_count": 10,
   "id": "8d3e8b16",
   "metadata": {},
   "outputs": [
    {
     "data": {
      "text/plain": [
       "Index(['city', 'city_ascii', 'lat', 'lng', 'country', 'iso2', 'iso3',\n",
       "       'admin_name', 'capital', 'population', 'id'],\n",
       "      dtype='object')"
      ]
     },
     "execution_count": 10,
     "metadata": {},
     "output_type": "execute_result"
    }
   ],
   "source": [
    "df.columns"
   ]
  },
  {
   "cell_type": "markdown",
   "id": "a2252d67",
   "metadata": {},
   "source": [
    "El método describe() nos dice algunas propiedades numéricas sobre los valores numéricos de nuestro conjunto de datos."
   ]
  },
  {
   "cell_type": "code",
   "execution_count": 11,
   "id": "11235009",
   "metadata": {},
   "outputs": [
    {
     "data": {
      "text/html": [
       "<div>\n",
       "<style scoped>\n",
       "    .dataframe tbody tr th:only-of-type {\n",
       "        vertical-align: middle;\n",
       "    }\n",
       "\n",
       "    .dataframe tbody tr th {\n",
       "        vertical-align: top;\n",
       "    }\n",
       "\n",
       "    .dataframe thead th {\n",
       "        text-align: right;\n",
       "    }\n",
       "</style>\n",
       "<table border=\"1\" class=\"dataframe\">\n",
       "  <thead>\n",
       "    <tr style=\"text-align: right;\">\n",
       "      <th></th>\n",
       "      <th>lat</th>\n",
       "      <th>lng</th>\n",
       "      <th>population</th>\n",
       "      <th>id</th>\n",
       "    </tr>\n",
       "  </thead>\n",
       "  <tbody>\n",
       "    <tr>\n",
       "      <th>count</th>\n",
       "      <td>42905.000000</td>\n",
       "      <td>42905.000000</td>\n",
       "      <td>4.218000e+04</td>\n",
       "      <td>4.290500e+04</td>\n",
       "    </tr>\n",
       "    <tr>\n",
       "      <th>mean</th>\n",
       "      <td>30.022893</td>\n",
       "      <td>0.457852</td>\n",
       "      <td>1.070539e+05</td>\n",
       "      <td>1.471166e+09</td>\n",
       "    </tr>\n",
       "    <tr>\n",
       "      <th>std</th>\n",
       "      <td>23.206570</td>\n",
       "      <td>71.040460</td>\n",
       "      <td>7.154036e+05</td>\n",
       "      <td>2.798714e+08</td>\n",
       "    </tr>\n",
       "    <tr>\n",
       "      <th>min</th>\n",
       "      <td>-54.934100</td>\n",
       "      <td>-179.590000</td>\n",
       "      <td>0.000000e+00</td>\n",
       "      <td>1.004003e+09</td>\n",
       "    </tr>\n",
       "    <tr>\n",
       "      <th>25%</th>\n",
       "      <td>17.769400</td>\n",
       "      <td>-70.568500</td>\n",
       "      <td>8.212000e+03</td>\n",
       "      <td>1.250211e+09</td>\n",
       "    </tr>\n",
       "    <tr>\n",
       "      <th>50%</th>\n",
       "      <td>38.704900</td>\n",
       "      <td>6.084200</td>\n",
       "      <td>1.577850e+04</td>\n",
       "      <td>1.398354e+09</td>\n",
       "    </tr>\n",
       "    <tr>\n",
       "      <th>75%</th>\n",
       "      <td>46.170600</td>\n",
       "      <td>34.932800</td>\n",
       "      <td>3.961325e+04</td>\n",
       "      <td>1.764392e+09</td>\n",
       "    </tr>\n",
       "    <tr>\n",
       "      <th>max</th>\n",
       "      <td>81.716600</td>\n",
       "      <td>179.366700</td>\n",
       "      <td>3.910500e+07</td>\n",
       "      <td>1.934000e+09</td>\n",
       "    </tr>\n",
       "  </tbody>\n",
       "</table>\n",
       "</div>"
      ],
      "text/plain": [
       "                lat           lng    population            id\n",
       "count  42905.000000  42905.000000  4.218000e+04  4.290500e+04\n",
       "mean      30.022893      0.457852  1.070539e+05  1.471166e+09\n",
       "std       23.206570     71.040460  7.154036e+05  2.798714e+08\n",
       "min      -54.934100   -179.590000  0.000000e+00  1.004003e+09\n",
       "25%       17.769400    -70.568500  8.212000e+03  1.250211e+09\n",
       "50%       38.704900      6.084200  1.577850e+04  1.398354e+09\n",
       "75%       46.170600     34.932800  3.961325e+04  1.764392e+09\n",
       "max       81.716600    179.366700  3.910500e+07  1.934000e+09"
      ]
     },
     "execution_count": 11,
     "metadata": {},
     "output_type": "execute_result"
    }
   ],
   "source": [
    "df.describe()"
   ]
  },
  {
   "cell_type": "markdown",
   "id": "60bba9f1",
   "metadata": {},
   "source": [
    "El método info() nos da un conteo de valores no nulos y tipado de datos. Object funciona como una variable categórica (por ejemplo, datos strings)"
   ]
  },
  {
   "cell_type": "code",
   "execution_count": 12,
   "id": "807ae12a",
   "metadata": {},
   "outputs": [
    {
     "name": "stdout",
     "output_type": "stream",
     "text": [
      "<class 'pandas.core.frame.DataFrame'>\n",
      "RangeIndex: 42905 entries, 0 to 42904\n",
      "Data columns (total 11 columns):\n",
      " #   Column      Non-Null Count  Dtype  \n",
      "---  ------      --------------  -----  \n",
      " 0   city        42904 non-null  object \n",
      " 1   city_ascii  42904 non-null  object \n",
      " 2   lat         42905 non-null  float64\n",
      " 3   lng         42905 non-null  float64\n",
      " 4   country     42905 non-null  object \n",
      " 5   iso2        42873 non-null  object \n",
      " 6   iso3        42905 non-null  object \n",
      " 7   admin_name  42810 non-null  object \n",
      " 8   capital     9812 non-null   object \n",
      " 9   population  42180 non-null  float64\n",
      " 10  id          42905 non-null  int64  \n",
      "dtypes: float64(3), int64(1), object(7)\n",
      "memory usage: 3.6+ MB\n"
     ]
    }
   ],
   "source": [
    "df.info()"
   ]
  },
  {
   "cell_type": "markdown",
   "id": "287c17b8",
   "metadata": {},
   "source": [
    "## 2.3 Seleccionar columnas"
   ]
  },
  {
   "cell_type": "markdown",
   "id": "ed7738e0",
   "metadata": {},
   "source": [
    "Seleccionamos la columna ciudad"
   ]
  },
  {
   "cell_type": "code",
   "execution_count": 13,
   "id": "f6737178",
   "metadata": {},
   "outputs": [
    {
     "data": {
      "text/plain": [
       "0              Tokyo\n",
       "1            Jakarta\n",
       "2              Delhi\n",
       "3             Manila\n",
       "4          São Paulo\n",
       "            ...     \n",
       "42900         Tukchi\n",
       "42901          Numto\n",
       "42902           Nord\n",
       "42903    Timmiarmiut\n",
       "42904        Nordvik\n",
       "Name: city, Length: 42905, dtype: object"
      ]
     },
     "execution_count": 13,
     "metadata": {},
     "output_type": "execute_result"
    }
   ],
   "source": [
    "df[\"city\"]"
   ]
  },
  {
   "cell_type": "markdown",
   "id": "6def83f1",
   "metadata": {},
   "source": [
    "Podemos observar que el tipo de la columna ciudad es una Series. Una columna de un Dataframe es una Series, que es otro tipo de datos en Python."
   ]
  },
  {
   "cell_type": "code",
   "execution_count": 14,
   "id": "ff8dd2c6",
   "metadata": {},
   "outputs": [
    {
     "data": {
      "text/plain": [
       "pandas.core.series.Series"
      ]
     },
     "execution_count": 14,
     "metadata": {},
     "output_type": "execute_result"
    }
   ],
   "source": [
    "type(df[\"city\"])"
   ]
  },
  {
   "cell_type": "markdown",
   "id": "e3a7f076",
   "metadata": {},
   "source": [
    "Mostramos todas las ciudades de nuestro conjunto de datos."
   ]
  },
  {
   "cell_type": "code",
   "execution_count": null,
   "id": "d9b8c6bf",
   "metadata": {},
   "outputs": [],
   "source": [
    "for city in df[\"city\"].unique():\n",
    "    print(city)"
   ]
  },
  {
   "cell_type": "markdown",
   "id": "fb52d97a",
   "metadata": {},
   "source": [
    "Si queremos sacar información concreta de nuestro conjunto de datos. EL método drop_duplicates() nos permite sacar duplicados."
   ]
  },
  {
   "cell_type": "code",
   "execution_count": 16,
   "id": "ddb9f876",
   "metadata": {},
   "outputs": [],
   "source": [
    "unique_city_country = df[[\"city\", \"country\"]].drop_duplicates()"
   ]
  },
  {
   "cell_type": "code",
   "execution_count": 17,
   "id": "ba0183f7-09cc-4497-a201-0ba3fb0711bc",
   "metadata": {},
   "outputs": [
    {
     "data": {
      "text/html": [
       "<div>\n",
       "<style scoped>\n",
       "    .dataframe tbody tr th:only-of-type {\n",
       "        vertical-align: middle;\n",
       "    }\n",
       "\n",
       "    .dataframe tbody tr th {\n",
       "        vertical-align: top;\n",
       "    }\n",
       "\n",
       "    .dataframe thead th {\n",
       "        text-align: right;\n",
       "    }\n",
       "</style>\n",
       "<table border=\"1\" class=\"dataframe\">\n",
       "  <thead>\n",
       "    <tr style=\"text-align: right;\">\n",
       "      <th></th>\n",
       "      <th>city</th>\n",
       "      <th>country</th>\n",
       "    </tr>\n",
       "  </thead>\n",
       "  <tbody>\n",
       "    <tr>\n",
       "      <th>0</th>\n",
       "      <td>Tokyo</td>\n",
       "      <td>Japan</td>\n",
       "    </tr>\n",
       "    <tr>\n",
       "      <th>1</th>\n",
       "      <td>Jakarta</td>\n",
       "      <td>Indonesia</td>\n",
       "    </tr>\n",
       "    <tr>\n",
       "      <th>2</th>\n",
       "      <td>Delhi</td>\n",
       "      <td>India</td>\n",
       "    </tr>\n",
       "    <tr>\n",
       "      <th>3</th>\n",
       "      <td>Manila</td>\n",
       "      <td>Philippines</td>\n",
       "    </tr>\n",
       "    <tr>\n",
       "      <th>4</th>\n",
       "      <td>São Paulo</td>\n",
       "      <td>Brazil</td>\n",
       "    </tr>\n",
       "  </tbody>\n",
       "</table>\n",
       "</div>"
      ],
      "text/plain": [
       "        city      country\n",
       "0      Tokyo        Japan\n",
       "1    Jakarta    Indonesia\n",
       "2      Delhi        India\n",
       "3     Manila  Philippines\n",
       "4  São Paulo       Brazil"
      ]
     },
     "execution_count": 17,
     "metadata": {},
     "output_type": "execute_result"
    }
   ],
   "source": [
    "unique_city_country.head()"
   ]
  },
  {
   "cell_type": "markdown",
   "id": "abdaa3e2",
   "metadata": {},
   "source": [
    "Vamos a mostrarlo en pantalla con un f-string."
   ]
  },
  {
   "cell_type": "code",
   "execution_count": null,
   "id": "cafdc156",
   "metadata": {},
   "outputs": [],
   "source": [
    "for _, row in unique_city_country.iterrows():\n",
    "    print(f\"La ciudad {row['city']} está en {row['country']}\")\n"
   ]
  },
  {
   "cell_type": "markdown",
   "id": "0d31f2e1",
   "metadata": {},
   "source": [
    "Lo exportamos como un CSV."
   ]
  },
  {
   "cell_type": "code",
   "execution_count": 19,
   "id": "77c49306",
   "metadata": {},
   "outputs": [],
   "source": [
    "unique_city_country.to_csv('data/ciudades_paises.csv',index=False)"
   ]
  },
  {
   "cell_type": "markdown",
   "id": "5fd2cdfa-24d5-4912-a5b8-4aa8db73651f",
   "metadata": {},
   "source": [
    "## 2.4 Filtrar por un campo específico"
   ]
  },
  {
   "cell_type": "code",
   "execution_count": 20,
   "id": "0460fe15-aae0-4ce2-bc1f-466f17e102a1",
   "metadata": {},
   "outputs": [
    {
     "data": {
      "text/plain": [
       "0         True\n",
       "1        False\n",
       "2        False\n",
       "3        False\n",
       "4        False\n",
       "         ...  \n",
       "42900    False\n",
       "42901    False\n",
       "42902    False\n",
       "42903    False\n",
       "42904    False\n",
       "Name: city, Length: 42905, dtype: bool"
      ]
     },
     "execution_count": 20,
     "metadata": {},
     "output_type": "execute_result"
    }
   ],
   "source": [
    "df[\"city\"]=='Tokyo'"
   ]
  },
  {
   "cell_type": "code",
   "execution_count": 21,
   "id": "d0b73cf8-80e8-4d8b-97b6-238a2e12a800",
   "metadata": {},
   "outputs": [
    {
     "data": {
      "text/html": [
       "<div>\n",
       "<style scoped>\n",
       "    .dataframe tbody tr th:only-of-type {\n",
       "        vertical-align: middle;\n",
       "    }\n",
       "\n",
       "    .dataframe tbody tr th {\n",
       "        vertical-align: top;\n",
       "    }\n",
       "\n",
       "    .dataframe thead th {\n",
       "        text-align: right;\n",
       "    }\n",
       "</style>\n",
       "<table border=\"1\" class=\"dataframe\">\n",
       "  <thead>\n",
       "    <tr style=\"text-align: right;\">\n",
       "      <th></th>\n",
       "      <th>city</th>\n",
       "      <th>city_ascii</th>\n",
       "      <th>lat</th>\n",
       "      <th>lng</th>\n",
       "      <th>country</th>\n",
       "      <th>iso2</th>\n",
       "      <th>iso3</th>\n",
       "      <th>admin_name</th>\n",
       "      <th>capital</th>\n",
       "      <th>population</th>\n",
       "      <th>id</th>\n",
       "    </tr>\n",
       "  </thead>\n",
       "  <tbody>\n",
       "    <tr>\n",
       "      <th>0</th>\n",
       "      <td>Tokyo</td>\n",
       "      <td>Tokyo</td>\n",
       "      <td>35.6839</td>\n",
       "      <td>139.7744</td>\n",
       "      <td>Japan</td>\n",
       "      <td>JP</td>\n",
       "      <td>JPN</td>\n",
       "      <td>Tōkyō</td>\n",
       "      <td>primary</td>\n",
       "      <td>39105000.0</td>\n",
       "      <td>1392685764</td>\n",
       "    </tr>\n",
       "  </tbody>\n",
       "</table>\n",
       "</div>"
      ],
      "text/plain": [
       "    city city_ascii      lat       lng country iso2 iso3 admin_name  capital  \\\n",
       "0  Tokyo      Tokyo  35.6839  139.7744   Japan   JP  JPN      Tōkyō  primary   \n",
       "\n",
       "   population          id  \n",
       "0  39105000.0  1392685764  "
      ]
     },
     "execution_count": 21,
     "metadata": {},
     "output_type": "execute_result"
    }
   ],
   "source": [
    "df[df[\"city\"]=='Tokyo']"
   ]
  },
  {
   "cell_type": "code",
   "execution_count": 22,
   "id": "3b6c376d-0b72-40e5-b0d0-2d9e186d8099",
   "metadata": {},
   "outputs": [
    {
     "data": {
      "text/html": [
       "<div>\n",
       "<style scoped>\n",
       "    .dataframe tbody tr th:only-of-type {\n",
       "        vertical-align: middle;\n",
       "    }\n",
       "\n",
       "    .dataframe tbody tr th {\n",
       "        vertical-align: top;\n",
       "    }\n",
       "\n",
       "    .dataframe thead th {\n",
       "        text-align: right;\n",
       "    }\n",
       "</style>\n",
       "<table border=\"1\" class=\"dataframe\">\n",
       "  <thead>\n",
       "    <tr style=\"text-align: right;\">\n",
       "      <th></th>\n",
       "      <th>city</th>\n",
       "      <th>city_ascii</th>\n",
       "      <th>lat</th>\n",
       "      <th>lng</th>\n",
       "      <th>country</th>\n",
       "      <th>iso2</th>\n",
       "      <th>iso3</th>\n",
       "      <th>admin_name</th>\n",
       "      <th>capital</th>\n",
       "      <th>population</th>\n",
       "      <th>id</th>\n",
       "    </tr>\n",
       "  </thead>\n",
       "  <tbody>\n",
       "  </tbody>\n",
       "</table>\n",
       "</div>"
      ],
      "text/plain": [
       "Empty DataFrame\n",
       "Columns: [city, city_ascii, lat, lng, country, iso2, iso3, admin_name, capital, population, id]\n",
       "Index: []"
      ]
     },
     "execution_count": 22,
     "metadata": {},
     "output_type": "execute_result"
    }
   ],
   "source": [
    "df[(df[\"country\"]=='Japan')&(df[\"population\"]>39105000.0)]"
   ]
  },
  {
   "cell_type": "code",
   "execution_count": 23,
   "id": "2eaa0c78-c353-4892-a52a-e12b00942331",
   "metadata": {},
   "outputs": [
    {
     "data": {
      "text/html": [
       "<div>\n",
       "<style scoped>\n",
       "    .dataframe tbody tr th:only-of-type {\n",
       "        vertical-align: middle;\n",
       "    }\n",
       "\n",
       "    .dataframe tbody tr th {\n",
       "        vertical-align: top;\n",
       "    }\n",
       "\n",
       "    .dataframe thead th {\n",
       "        text-align: right;\n",
       "    }\n",
       "</style>\n",
       "<table border=\"1\" class=\"dataframe\">\n",
       "  <thead>\n",
       "    <tr style=\"text-align: right;\">\n",
       "      <th></th>\n",
       "      <th>city</th>\n",
       "      <th>city_ascii</th>\n",
       "      <th>lat</th>\n",
       "      <th>lng</th>\n",
       "      <th>country</th>\n",
       "      <th>iso2</th>\n",
       "      <th>iso3</th>\n",
       "      <th>admin_name</th>\n",
       "      <th>capital</th>\n",
       "      <th>population</th>\n",
       "      <th>id</th>\n",
       "    </tr>\n",
       "  </thead>\n",
       "  <tbody>\n",
       "    <tr>\n",
       "      <th>0</th>\n",
       "      <td>Tokyo</td>\n",
       "      <td>Tokyo</td>\n",
       "      <td>35.6839</td>\n",
       "      <td>139.7744</td>\n",
       "      <td>Japan</td>\n",
       "      <td>JP</td>\n",
       "      <td>JPN</td>\n",
       "      <td>Tōkyō</td>\n",
       "      <td>primary</td>\n",
       "      <td>39105000.0</td>\n",
       "      <td>1392685764</td>\n",
       "    </tr>\n",
       "    <tr>\n",
       "      <th>18</th>\n",
       "      <td>Ōsaka</td>\n",
       "      <td>Osaka</td>\n",
       "      <td>34.7520</td>\n",
       "      <td>135.4582</td>\n",
       "      <td>Japan</td>\n",
       "      <td>JP</td>\n",
       "      <td>JPN</td>\n",
       "      <td>Ōsaka</td>\n",
       "      <td>admin</td>\n",
       "      <td>15490000.0</td>\n",
       "      <td>1392419823</td>\n",
       "    </tr>\n",
       "  </tbody>\n",
       "</table>\n",
       "</div>"
      ],
      "text/plain": [
       "     city city_ascii      lat       lng country iso2 iso3 admin_name  capital  \\\n",
       "0   Tokyo      Tokyo  35.6839  139.7744   Japan   JP  JPN      Tōkyō  primary   \n",
       "18  Ōsaka      Osaka  34.7520  135.4582   Japan   JP  JPN      Ōsaka    admin   \n",
       "\n",
       "    population          id  \n",
       "0   39105000.0  1392685764  \n",
       "18  15490000.0  1392419823  "
      ]
     },
     "execution_count": 23,
     "metadata": {},
     "output_type": "execute_result"
    }
   ],
   "source": [
    "df[(df[\"country\"]=='Japan')&(df[\"population\"]>12105000.0)]"
   ]
  },
  {
   "cell_type": "markdown",
   "id": "4fa36237-fc06-4b0a-a3f8-1aba1ad86f90",
   "metadata": {},
   "source": [
    "## 2.5 Ordenar por un campo"
   ]
  },
  {
   "cell_type": "markdown",
   "id": "790a3b27-bba0-4e45-a414-307895e8b658",
   "metadata": {},
   "source": [
    "Seguramente nos interese ver la información ordenada por cierto campo, a continuación veremos como hacerlo tanto en orden creciente como decreciente.\n",
    "\n",
    "Además, aprovecharemos para mostrar como alterar el número mínimo y máximo de filas y columnas que podemos ver por pantalla."
   ]
  },
  {
   "cell_type": "code",
   "execution_count": null,
   "id": "60d2d443-05e8-4d55-8fdf-ff65674758cf",
   "metadata": {},
   "outputs": [],
   "source": [
    "pd.set_option('display.max_rows', 5)\n",
    "# pd.set_option('display.max_rows', None)\n",
    "# pd.set_option('display.max_columns', None)"
   ]
  },
  {
   "cell_type": "code",
   "execution_count": 34,
   "id": "04c50438-1e1e-4782-ae6e-47d6526359c7",
   "metadata": {},
   "outputs": [
    {
     "data": {
      "text/html": [
       "<div>\n",
       "<style scoped>\n",
       "    .dataframe tbody tr th:only-of-type {\n",
       "        vertical-align: middle;\n",
       "    }\n",
       "\n",
       "    .dataframe tbody tr th {\n",
       "        vertical-align: top;\n",
       "    }\n",
       "\n",
       "    .dataframe thead th {\n",
       "        text-align: right;\n",
       "    }\n",
       "</style>\n",
       "<table border=\"1\" class=\"dataframe\">\n",
       "  <thead>\n",
       "    <tr style=\"text-align: right;\">\n",
       "      <th></th>\n",
       "      <th>city</th>\n",
       "      <th>city_ascii</th>\n",
       "      <th>lat</th>\n",
       "      <th>lng</th>\n",
       "      <th>country</th>\n",
       "      <th>iso2</th>\n",
       "      <th>iso3</th>\n",
       "      <th>admin_name</th>\n",
       "      <th>capital</th>\n",
       "      <th>population</th>\n",
       "      <th>id</th>\n",
       "    </tr>\n",
       "  </thead>\n",
       "  <tbody>\n",
       "    <tr>\n",
       "      <th>41911</th>\n",
       "      <td>Naganohara</td>\n",
       "      <td>Naganohara</td>\n",
       "      <td>36.5522</td>\n",
       "      <td>138.6375</td>\n",
       "      <td>Japan</td>\n",
       "      <td>JP</td>\n",
       "      <td>JPN</td>\n",
       "      <td>Gunma</td>\n",
       "      <td>NaN</td>\n",
       "      <td>5026.0</td>\n",
       "      <td>1392960848</td>\n",
       "    </tr>\n",
       "    <tr>\n",
       "      <th>41884</th>\n",
       "      <td>Kaneyama</td>\n",
       "      <td>Kaneyama</td>\n",
       "      <td>38.8833</td>\n",
       "      <td>140.3394</td>\n",
       "      <td>Japan</td>\n",
       "      <td>JP</td>\n",
       "      <td>JPN</td>\n",
       "      <td>Yamagata</td>\n",
       "      <td>NaN</td>\n",
       "      <td>5045.0</td>\n",
       "      <td>1392255901</td>\n",
       "    </tr>\n",
       "    <tr>\n",
       "      <th>...</th>\n",
       "      <td>...</td>\n",
       "      <td>...</td>\n",
       "      <td>...</td>\n",
       "      <td>...</td>\n",
       "      <td>...</td>\n",
       "      <td>...</td>\n",
       "      <td>...</td>\n",
       "      <td>...</td>\n",
       "      <td>...</td>\n",
       "      <td>...</td>\n",
       "      <td>...</td>\n",
       "    </tr>\n",
       "    <tr>\n",
       "      <th>18</th>\n",
       "      <td>Ōsaka</td>\n",
       "      <td>Osaka</td>\n",
       "      <td>34.7520</td>\n",
       "      <td>135.4582</td>\n",
       "      <td>Japan</td>\n",
       "      <td>JP</td>\n",
       "      <td>JPN</td>\n",
       "      <td>Ōsaka</td>\n",
       "      <td>admin</td>\n",
       "      <td>15490000.0</td>\n",
       "      <td>1392419823</td>\n",
       "    </tr>\n",
       "    <tr>\n",
       "      <th>0</th>\n",
       "      <td>Tokyo</td>\n",
       "      <td>Tokyo</td>\n",
       "      <td>35.6839</td>\n",
       "      <td>139.7744</td>\n",
       "      <td>Japan</td>\n",
       "      <td>JP</td>\n",
       "      <td>JPN</td>\n",
       "      <td>Tōkyō</td>\n",
       "      <td>primary</td>\n",
       "      <td>39105000.0</td>\n",
       "      <td>1392685764</td>\n",
       "    </tr>\n",
       "  </tbody>\n",
       "</table>\n",
       "<p>1327 rows × 11 columns</p>\n",
       "</div>"
      ],
      "text/plain": [
       "             city  city_ascii      lat       lng country iso2 iso3 admin_name  \\\n",
       "41911  Naganohara  Naganohara  36.5522  138.6375   Japan   JP  JPN      Gunma   \n",
       "41884    Kaneyama    Kaneyama  38.8833  140.3394   Japan   JP  JPN   Yamagata   \n",
       "...           ...         ...      ...       ...     ...  ...  ...        ...   \n",
       "18          Ōsaka       Osaka  34.7520  135.4582   Japan   JP  JPN      Ōsaka   \n",
       "0           Tokyo       Tokyo  35.6839  139.7744   Japan   JP  JPN      Tōkyō   \n",
       "\n",
       "       capital  population          id  \n",
       "41911      NaN      5026.0  1392960848  \n",
       "41884      NaN      5045.0  1392255901  \n",
       "...        ...         ...         ...  \n",
       "18       admin  15490000.0  1392419823  \n",
       "0      primary  39105000.0  1392685764  \n",
       "\n",
       "[1327 rows x 11 columns]"
      ]
     },
     "execution_count": 34,
     "metadata": {},
     "output_type": "execute_result"
    }
   ],
   "source": [
    "df[(df[\"country\"]=='Japan')].sort_values(\"population\").head(1327)"
   ]
  },
  {
   "cell_type": "code",
   "execution_count": 30,
   "id": "1e71aabd-f500-4662-86a7-2a218f86e047",
   "metadata": {},
   "outputs": [
    {
     "data": {
      "text/html": [
       "<div>\n",
       "<style scoped>\n",
       "    .dataframe tbody tr th:only-of-type {\n",
       "        vertical-align: middle;\n",
       "    }\n",
       "\n",
       "    .dataframe tbody tr th {\n",
       "        vertical-align: top;\n",
       "    }\n",
       "\n",
       "    .dataframe thead th {\n",
       "        text-align: right;\n",
       "    }\n",
       "</style>\n",
       "<table border=\"1\" class=\"dataframe\">\n",
       "  <thead>\n",
       "    <tr style=\"text-align: right;\">\n",
       "      <th></th>\n",
       "      <th>city</th>\n",
       "      <th>city_ascii</th>\n",
       "      <th>lat</th>\n",
       "      <th>lng</th>\n",
       "      <th>country</th>\n",
       "      <th>iso2</th>\n",
       "      <th>iso3</th>\n",
       "      <th>admin_name</th>\n",
       "      <th>capital</th>\n",
       "      <th>population</th>\n",
       "      <th>id</th>\n",
       "    </tr>\n",
       "  </thead>\n",
       "  <tbody>\n",
       "    <tr>\n",
       "      <th>0</th>\n",
       "      <td>Tokyo</td>\n",
       "      <td>Tokyo</td>\n",
       "      <td>35.6839</td>\n",
       "      <td>139.7744</td>\n",
       "      <td>Japan</td>\n",
       "      <td>JP</td>\n",
       "      <td>JPN</td>\n",
       "      <td>Tōkyō</td>\n",
       "      <td>primary</td>\n",
       "      <td>39105000.0</td>\n",
       "      <td>1392685764</td>\n",
       "    </tr>\n",
       "    <tr>\n",
       "      <th>18</th>\n",
       "      <td>Ōsaka</td>\n",
       "      <td>Osaka</td>\n",
       "      <td>34.7520</td>\n",
       "      <td>135.4582</td>\n",
       "      <td>Japan</td>\n",
       "      <td>JP</td>\n",
       "      <td>JPN</td>\n",
       "      <td>Ōsaka</td>\n",
       "      <td>admin</td>\n",
       "      <td>15490000.0</td>\n",
       "      <td>1392419823</td>\n",
       "    </tr>\n",
       "    <tr>\n",
       "      <th>43</th>\n",
       "      <td>Nagoya</td>\n",
       "      <td>Nagoya</td>\n",
       "      <td>35.1167</td>\n",
       "      <td>136.9333</td>\n",
       "      <td>Japan</td>\n",
       "      <td>JP</td>\n",
       "      <td>JPN</td>\n",
       "      <td>Aichi</td>\n",
       "      <td>admin</td>\n",
       "      <td>9522000.0</td>\n",
       "      <td>1392407472</td>\n",
       "    </tr>\n",
       "    <tr>\n",
       "      <th>204</th>\n",
       "      <td>Yokohama</td>\n",
       "      <td>Yokohama</td>\n",
       "      <td>35.4333</td>\n",
       "      <td>139.6333</td>\n",
       "      <td>Japan</td>\n",
       "      <td>JP</td>\n",
       "      <td>JPN</td>\n",
       "      <td>Kanagawa</td>\n",
       "      <td>admin</td>\n",
       "      <td>3757630.0</td>\n",
       "      <td>1392118339</td>\n",
       "    </tr>\n",
       "    <tr>\n",
       "      <th>337</th>\n",
       "      <td>Fukuoka</td>\n",
       "      <td>Fukuoka</td>\n",
       "      <td>33.6000</td>\n",
       "      <td>130.4167</td>\n",
       "      <td>Japan</td>\n",
       "      <td>JP</td>\n",
       "      <td>JPN</td>\n",
       "      <td>Fukuoka</td>\n",
       "      <td>admin</td>\n",
       "      <td>2280000.0</td>\n",
       "      <td>1392576294</td>\n",
       "    </tr>\n",
       "    <tr>\n",
       "      <th>...</th>\n",
       "      <td>...</td>\n",
       "      <td>...</td>\n",
       "      <td>...</td>\n",
       "      <td>...</td>\n",
       "      <td>...</td>\n",
       "      <td>...</td>\n",
       "      <td>...</td>\n",
       "      <td>...</td>\n",
       "      <td>...</td>\n",
       "      <td>...</td>\n",
       "      <td>...</td>\n",
       "    </tr>\n",
       "    <tr>\n",
       "      <th>41760</th>\n",
       "      <td>Oshamambe</td>\n",
       "      <td>Oshamambe</td>\n",
       "      <td>42.5136</td>\n",
       "      <td>140.3804</td>\n",
       "      <td>Japan</td>\n",
       "      <td>JP</td>\n",
       "      <td>JPN</td>\n",
       "      <td>Hokkaidō</td>\n",
       "      <td>NaN</td>\n",
       "      <td>5112.0</td>\n",
       "      <td>1392512191</td>\n",
       "    </tr>\n",
       "    <tr>\n",
       "      <th>41692</th>\n",
       "      <td>Ochi</td>\n",
       "      <td>Ochi</td>\n",
       "      <td>33.5328</td>\n",
       "      <td>133.2519</td>\n",
       "      <td>Japan</td>\n",
       "      <td>JP</td>\n",
       "      <td>JPN</td>\n",
       "      <td>Kōchi</td>\n",
       "      <td>NaN</td>\n",
       "      <td>5111.0</td>\n",
       "      <td>1392035701</td>\n",
       "    </tr>\n",
       "    <tr>\n",
       "      <th>41917</th>\n",
       "      <td>Imagane</td>\n",
       "      <td>Imagane</td>\n",
       "      <td>42.4294</td>\n",
       "      <td>140.0086</td>\n",
       "      <td>Japan</td>\n",
       "      <td>JP</td>\n",
       "      <td>JPN</td>\n",
       "      <td>Hokkaidō</td>\n",
       "      <td>NaN</td>\n",
       "      <td>5052.0</td>\n",
       "      <td>1392052641</td>\n",
       "    </tr>\n",
       "    <tr>\n",
       "      <th>41884</th>\n",
       "      <td>Kaneyama</td>\n",
       "      <td>Kaneyama</td>\n",
       "      <td>38.8833</td>\n",
       "      <td>140.3394</td>\n",
       "      <td>Japan</td>\n",
       "      <td>JP</td>\n",
       "      <td>JPN</td>\n",
       "      <td>Yamagata</td>\n",
       "      <td>NaN</td>\n",
       "      <td>5045.0</td>\n",
       "      <td>1392255901</td>\n",
       "    </tr>\n",
       "    <tr>\n",
       "      <th>41911</th>\n",
       "      <td>Naganohara</td>\n",
       "      <td>Naganohara</td>\n",
       "      <td>36.5522</td>\n",
       "      <td>138.6375</td>\n",
       "      <td>Japan</td>\n",
       "      <td>JP</td>\n",
       "      <td>JPN</td>\n",
       "      <td>Gunma</td>\n",
       "      <td>NaN</td>\n",
       "      <td>5026.0</td>\n",
       "      <td>1392960848</td>\n",
       "    </tr>\n",
       "  </tbody>\n",
       "</table>\n",
       "<p>1327 rows × 11 columns</p>\n",
       "</div>"
      ],
      "text/plain": [
       "             city  city_ascii      lat       lng country iso2 iso3 admin_name  \\\n",
       "0           Tokyo       Tokyo  35.6839  139.7744   Japan   JP  JPN      Tōkyō   \n",
       "18          Ōsaka       Osaka  34.7520  135.4582   Japan   JP  JPN      Ōsaka   \n",
       "43         Nagoya      Nagoya  35.1167  136.9333   Japan   JP  JPN      Aichi   \n",
       "204      Yokohama    Yokohama  35.4333  139.6333   Japan   JP  JPN   Kanagawa   \n",
       "337       Fukuoka     Fukuoka  33.6000  130.4167   Japan   JP  JPN    Fukuoka   \n",
       "...           ...         ...      ...       ...     ...  ...  ...        ...   \n",
       "41760   Oshamambe   Oshamambe  42.5136  140.3804   Japan   JP  JPN   Hokkaidō   \n",
       "41692        Ochi        Ochi  33.5328  133.2519   Japan   JP  JPN      Kōchi   \n",
       "41917     Imagane     Imagane  42.4294  140.0086   Japan   JP  JPN   Hokkaidō   \n",
       "41884    Kaneyama    Kaneyama  38.8833  140.3394   Japan   JP  JPN   Yamagata   \n",
       "41911  Naganohara  Naganohara  36.5522  138.6375   Japan   JP  JPN      Gunma   \n",
       "\n",
       "       capital  population          id  \n",
       "0      primary  39105000.0  1392685764  \n",
       "18       admin  15490000.0  1392419823  \n",
       "43       admin   9522000.0  1392407472  \n",
       "204      admin   3757630.0  1392118339  \n",
       "337      admin   2280000.0  1392576294  \n",
       "...        ...         ...         ...  \n",
       "41760      NaN      5112.0  1392512191  \n",
       "41692      NaN      5111.0  1392035701  \n",
       "41917      NaN      5052.0  1392052641  \n",
       "41884      NaN      5045.0  1392255901  \n",
       "41911      NaN      5026.0  1392960848  \n",
       "\n",
       "[1327 rows x 11 columns]"
      ]
     },
     "execution_count": 30,
     "metadata": {},
     "output_type": "execute_result"
    }
   ],
   "source": [
    "df[(df[\"country\"]=='Japan')].sort_values(\"population\", ascending=False).head(1327)"
   ]
  },
  {
   "cell_type": "markdown",
   "id": "fc908ee2",
   "metadata": {},
   "source": [
    "## 2.6 Agrupar por campos"
   ]
  },
  {
   "cell_type": "markdown",
   "id": "5818f523",
   "metadata": {},
   "source": [
    "La agrupación crea una estructura de Pandas llamada DataFrameGroupBy. Esta estructura no realiza ninguna operación de cálculo por sí misma inmediatamente. En cambio, espera a que se le indique qué operación realizar "
   ]
  },
  {
   "cell_type": "code",
   "execution_count": 24,
   "id": "9c2708f1",
   "metadata": {},
   "outputs": [
    {
     "data": {
      "text/plain": [
       "pandas.core.groupby.generic.SeriesGroupBy"
      ]
     },
     "execution_count": 24,
     "metadata": {},
     "output_type": "execute_result"
    }
   ],
   "source": [
    "type(df.groupby(\"country\")[\"population\"])"
   ]
  },
  {
   "cell_type": "markdown",
   "id": "b2e99c11",
   "metadata": {},
   "source": [
    "Una vez aquí hay muchos opciones, podemos:\n",
    "\n",
    "- Calcular métricas complejas.\n",
    "- Calcular columnas específicas.\n",
    "- Filtrar por estructuras específicas."
   ]
  },
  {
   "cell_type": "code",
   "execution_count": 25,
   "id": "f6605af6",
   "metadata": {},
   "outputs": [
    {
     "data": {
      "text/plain": [
       "country\n",
       "China                     1.425714e+09\n",
       "United States             4.014537e+08\n",
       "India                     2.925420e+08\n",
       "Brazil                    2.027282e+08\n",
       "Japan                     1.841228e+08\n",
       "                              ...     \n",
       "Svalbard                  0.000000e+00\n",
       "Pitcairn Islands          0.000000e+00\n",
       "British Virgin Islands    0.000000e+00\n",
       "Saint Barthelemy          0.000000e+00\n",
       "Norfolk Island            0.000000e+00\n",
       "Name: population, Length: 239, dtype: float64"
      ]
     },
     "execution_count": 25,
     "metadata": {},
     "output_type": "execute_result"
    }
   ],
   "source": [
    "pop_por_pais = df.groupby(\"country\")[\"population\"].sum().sort_values(ascending=False)\n",
    "\n",
    "pop_por_pais"
   ]
  },
  {
   "cell_type": "code",
   "execution_count": 26,
   "id": "c6831f37",
   "metadata": {},
   "outputs": [
    {
     "data": {
      "text/plain": [
       "country\n",
       "Afghanistan           45\n",
       "Albania               51\n",
       "Algeria              157\n",
       "American Samoa         1\n",
       "Andorra                7\n",
       "                    ... \n",
       "Wallis And Futuna      2\n",
       "West Bank              1\n",
       "Yemen                 42\n",
       "Zambia                35\n",
       "Zimbabwe              26\n",
       "Name: city, Length: 239, dtype: int64"
      ]
     },
     "execution_count": 26,
     "metadata": {},
     "output_type": "execute_result"
    }
   ],
   "source": [
    "df.groupby(\"country\")[\"city\"].count()"
   ]
  },
  {
   "cell_type": "markdown",
   "id": "0173a8fc",
   "metadata": {},
   "source": [
    "## Ejercicio 2. Aeropuertos del mundo (20 min)"
   ]
  },
  {
   "cell_type": "markdown",
   "id": "0a28c0cc",
   "metadata": {},
   "source": [
    "a) Lee el CSV directamente desde la URL: https://ourairports.com/data/airports.csv usando pd.read_csv. \n",
    "\n",
    "b) Muestra las primeras 5 filas con head().\n",
    "\n",
    "c) Visualiza columna, tipos de datos, descripción estadística y recuento con columns, info(), y describe() ¿Cuál es el nivel de granulabilidad de la tabla?\n",
    "\n",
    "d) Crea un DataFrame solo con columnas relevantes: [\"name\", \"iso_country\", \"type\", \"continent\", \"elevation_ft\"].\n",
    "\n",
    "e) Selecciona primeras 10 aeropuertos de tipo \"large_airport\".\n",
    "\n",
    "f) Lista los diferentes tipos de aeropuertos (df[\"type\"].unique()).\n",
    "\n",
    "g) Lista de continentes presentes (iso_country y continent).\n",
    "\n",
    "h) Agrupa por iso_country y calcula:\n",
    "\n",
    "- Número de aeropuertos por país\n",
    "- Número de aeropuertos por tipo\n",
    "\n",
    "i) Exporta uno de estos dataframes a csv."
   ]
  },
  {
   "cell_type": "markdown",
   "id": "a7548239",
   "metadata": {},
   "source": [
    "## Material adicional"
   ]
  },
  {
   "cell_type": "markdown",
   "id": "46915a11-4d05-4a25-8351-60ebd75c1d1f",
   "metadata": {},
   "source": [
    "- Para otros formatos, vease la documentación oficial de pandas sobre input/outputs. https://pandas.pydata.org/docs/reference/io.html\n",
    "- Más datasets de aeropuertos: https://ourairports.com/data/\n",
    "- Curso de Pandas paso a paso: https://www.juanbarrios.com/curso-de-pandas-completo-desde-cero/"
   ]
  },
  {
   "cell_type": "code",
   "execution_count": null,
   "id": "dc63de0f-a4db-4805-816e-097348b80eed",
   "metadata": {},
   "outputs": [],
   "source": []
  }
 ],
 "metadata": {
  "kernelspec": {
   "display_name": "Python 3 (ipykernel)",
   "language": "python",
   "name": "python3"
  },
  "language_info": {
   "codemirror_mode": {
    "name": "ipython",
    "version": 3
   },
   "file_extension": ".py",
   "mimetype": "text/x-python",
   "name": "python",
   "nbconvert_exporter": "python",
   "pygments_lexer": "ipython3",
   "version": "3.12.7"
  }
 },
 "nbformat": 4,
 "nbformat_minor": 5
}
