{
 "cells": [
  {
   "cell_type": "markdown",
   "id": "63ac1f86",
   "metadata": {},
   "source": [
    "# Módulo 1. Entorno de desarrollo y conceptos básicos"
   ]
  },
  {
   "cell_type": "markdown",
   "id": "20b464de",
   "metadata": {},
   "source": [
    "## ¿Qué es Python?"
   ]
  },
  {
   "cell_type": "markdown",
   "id": "cf60ec23",
   "metadata": {},
   "source": [
    "Desarrollado por Guido van Rossum en 1990, Python es un lenguaje de programación interpratado de propósito general. Está construido sobre C y es un lenguaje de alto nivel.\n",
    "\n",
    "- Interpretado: Cuando se ejecuta se compila.\n",
    "- Propósito general: Amplio rango de aplicaciones, desde análisis de datos hasta desarrollo de aplicaciones.\n",
    "- Alto nivel: Parecido al lenguaje humano y alejado de la máquina."
   ]
  },
  {
   "cell_type": "markdown",
   "id": "357e3afd",
   "metadata": {},
   "source": [
    "Python es open source. Se puede ver el código, es colaborativo y tiene multitud de \"librerías\""
   ]
  },
  {
   "cell_type": "markdown",
   "id": "87bcc107-3a31-4d69-a66b-3355db6b3598",
   "metadata": {},
   "source": [
    "A continuación veremos algunos conceptos clave de Python y de la programación en general."
   ]
  },
  {
   "cell_type": "markdown",
   "id": "5b106449-bbea-49bd-b55f-1dcd099c6b95",
   "metadata": {},
   "source": [
    "**Nota**: Si en una celda incluimos al inicio ! podremos ejecutarla como si estuviéramos en la cmd."
   ]
  },
  {
   "cell_type": "code",
   "execution_count": 15,
   "id": "b46d9c52-c144-4db4-93c3-3a90266bc7d0",
   "metadata": {},
   "outputs": [
    {
     "name": "stdout",
     "output_type": "stream",
     "text": [
      "Python 3.12.7\n"
     ]
    }
   ],
   "source": [
    "!python -V"
   ]
  },
  {
   "cell_type": "markdown",
   "id": "b067a92e-12be-4a6c-95f7-68c9e76933fb",
   "metadata": {},
   "source": [
    "## Entornos de desarrollo"
   ]
  },
  {
   "cell_type": "markdown",
   "id": "619525e9-77e1-468a-9fe5-6adf44761222",
   "metadata": {},
   "source": [
    "Un entorno de desarrollo es un conjunto de herramientas y configuraciones que permiten al programador escribir, ejecutar, depurar y gestionar software de manera eficiente. Un entorno de desarrollo normalmente incluye:\n",
    "\n",
    "- Un editor o IDE (como VS Code, PyCharm, Jupyter).\n",
    "\n",
    "- Un intérprete o compilador (por ejemplo, Python).\n",
    "\n",
    "- Bibliotecas y paquetes necesarios para el proyecto.\n",
    "\n",
    "- Herramientas para gestión de versiones, entornos virtuales, documentación, etc.\n",
    "\n",
    "\n",
    "Anaconda es una distribución de Python (y también de R) especialmente diseñada para ciencia de datos, análisis estadístico, machine learning y desarrollo científico.\n",
    "\n",
    "- Incluye más de 250 paquetes científicos preinstalados, como numpy, pandas, matplotlib, scikit-learn, etc.\n",
    "\n",
    "- Usa conda para crear entornos virtuales y gestionar paquetes.\n",
    "\n",
    "- Ideal para usuarios, sin instalaciones complicadas, ya que agrupa todo lo necesario en una sola instalación.\n",
    "\n",
    "\n",
    "\n"
   ]
  },
  {
   "cell_type": "markdown",
   "id": "9b1c8934-69fe-4010-ba6a-084232cd9a31",
   "metadata": {},
   "source": [
    "## ¿Por qué tenemos celdas en lugar de Scripts"
   ]
  },
  {
   "cell_type": "markdown",
   "id": "4e592427-7e85-4bb8-92d8-c833d9e03fac",
   "metadata": {},
   "source": [
    "Los archivos .py se ejecutan de forma secuencial como un todo, mientras que en Jupyter puedes ejecutar celdas individualmente dentro de un entorno compartido."
   ]
  },
  {
   "cell_type": "markdown",
   "id": "6934150f-b3ce-4a0e-8a82-a17ff9e4e00a",
   "metadata": {},
   "source": [
    "Los .py son scripts lineales pensados para producción, mientras que Jupyter permite exploración interactiva con resultados inmediatos por celda."
   ]
  },
  {
   "cell_type": "markdown",
   "id": "1f38a011-4478-4246-aaea-19b0a4aaa1c3",
   "metadata": {},
   "source": [
    "## Primeros conceptos"
   ]
  },
  {
   "cell_type": "markdown",
   "id": "34bf6db7-d753-472f-a3aa-2cbb0140cdf5",
   "metadata": {},
   "source": [
    "**Variables y tipo de datos**"
   ]
  },
  {
   "cell_type": "markdown",
   "id": "11e2216c-f911-41f6-9002-165cc2272d9f",
   "metadata": {},
   "source": [
    "Es un espacio de memoria en el ordenador que se utiliza para almacenar datos, en python se define de la siguiente forma:"
   ]
  },
  {
   "cell_type": "code",
   "execution_count": 1,
   "id": "f0be84da",
   "metadata": {},
   "outputs": [],
   "source": [
    "a=1"
   ]
  },
  {
   "cell_type": "markdown",
   "id": "4f49dcc6-7be5-4b69-96dd-31edeece42d3",
   "metadata": {},
   "source": [
    "Para mostrar en pantalla una variable se utiliza print()"
   ]
  },
  {
   "cell_type": "code",
   "execution_count": 2,
   "id": "f4c25ab9",
   "metadata": {},
   "outputs": [
    {
     "name": "stdout",
     "output_type": "stream",
     "text": [
      "1\n"
     ]
    }
   ],
   "source": [
    "print(a)"
   ]
  },
  {
   "cell_type": "markdown",
   "id": "248821b3-b3d6-4d29-93e7-8394e46294b2",
   "metadata": {},
   "source": [
    "Cuando trabajamos en Jupyter nos vale con escribir la variable que queremos mostrar en pantalla al final de la celda."
   ]
  },
  {
   "cell_type": "code",
   "execution_count": 3,
   "id": "5e2fee46",
   "metadata": {},
   "outputs": [
    {
     "data": {
      "text/plain": [
       "1"
      ]
     },
     "execution_count": 3,
     "metadata": {},
     "output_type": "execute_result"
    }
   ],
   "source": [
    "a"
   ]
  },
  {
   "cell_type": "markdown",
   "id": "4c6a46b0-20e7-4633-9927-53c133479608",
   "metadata": {},
   "source": [
    "En python, cada variable tiene su tipo, que es la estructura de datos a la que corresponde. El tipo es mutable."
   ]
  },
  {
   "cell_type": "code",
   "execution_count": 4,
   "id": "445dc92e",
   "metadata": {},
   "outputs": [
    {
     "data": {
      "text/plain": [
       "int"
      ]
     },
     "execution_count": 4,
     "metadata": {},
     "output_type": "execute_result"
    }
   ],
   "source": [
    "type(a)"
   ]
  },
  {
   "cell_type": "markdown",
   "id": "fdc35e8a-1b2b-4bc4-bd9e-30183365888d",
   "metadata": {},
   "source": [
    "Otro tipo de datos muy usado y útil es el tipo string. Para definirlo nos vale tanto con comillas simples como dobles."
   ]
  },
  {
   "cell_type": "code",
   "execution_count": 5,
   "id": "5e6a200b",
   "metadata": {},
   "outputs": [],
   "source": [
    "b= 'Hola clase'"
   ]
  },
  {
   "cell_type": "code",
   "execution_count": 6,
   "id": "65a9c38d",
   "metadata": {},
   "outputs": [
    {
     "data": {
      "text/plain": [
       "str"
      ]
     },
     "execution_count": 6,
     "metadata": {},
     "output_type": "execute_result"
    }
   ],
   "source": [
    "type(b)"
   ]
  },
  {
   "cell_type": "code",
   "execution_count": 7,
   "id": "0bac7245",
   "metadata": {},
   "outputs": [],
   "source": [
    "c=\"Hola clase\""
   ]
  },
  {
   "cell_type": "markdown",
   "id": "c65c6286-656d-483a-be6c-f74a5605170e",
   "metadata": {},
   "source": [
    "Otro ejemplo es Boolean, solo tiene dos posbilidades o True o False. Sirve para hacer condicionales."
   ]
  },
  {
   "cell_type": "code",
   "execution_count": 8,
   "id": "50190174",
   "metadata": {},
   "outputs": [
    {
     "data": {
      "text/plain": [
       "True"
      ]
     },
     "execution_count": 8,
     "metadata": {},
     "output_type": "execute_result"
    }
   ],
   "source": [
    "b==c"
   ]
  },
  {
   "cell_type": "code",
   "execution_count": 9,
   "id": "ca354f3f-7965-4009-b793-aa44715ded6c",
   "metadata": {},
   "outputs": [
    {
     "data": {
      "text/plain": [
       "bool"
      ]
     },
     "execution_count": 9,
     "metadata": {},
     "output_type": "execute_result"
    }
   ],
   "source": [
    "type(b==c)"
   ]
  },
  {
   "cell_type": "markdown",
   "id": "f5f8d8e3-d9a3-4155-b6de-d0ea74e5f702",
   "metadata": {},
   "source": [
    "Un resumen de los tipos de datos de Python es el siguiente:"
   ]
  },
  {
   "cell_type": "markdown",
   "id": "1ee57b94-3db2-444a-9d4f-0383779af5de",
   "metadata": {},
   "source": [
    "| Categoría       | Tipo        | Ejemplo              | Descripción                              |\n",
    "|------------------|-------------|-----------------------|------------------------------------------|\n",
    "| **Numéricos**     | `int`       | `10`, `-3`            | Números enteros                          |\n",
    "|                  | `float`     | `3.14`, `-0.5`        | Números decimales                        |\n",
    "|                  | `complex`   | `2 + 3j`              | Números complejos                        |\n",
    "| **Texto**         | `str`       | `\"Hola\"`              | Cadenas de texto                         |\n",
    "| **Booleano**      | `bool`      | `True`, `False`       | Valores lógicos                          |\n",
    "| **Secuencias**    | `list`      | `[1, 2, 3]`           | Lista ordenada y mutable                 |\n",
    "|                  | `tuple`     | `(1, 2, 3)`           | Tupla ordenada e inmutable               |\n",
    "|                  | `range`     | `range(0, 10)`        | Secuencia de números                     |\n",
    "| **Conjuntos**     | `set`       | `{1, 2, 3}`           | Conjunto sin duplicados                  |\n",
    "|                  | `frozenset` | `frozenset({1, 2})`   | Conjunto inmutable                       |\n",
    "| **Mapas**         | `dict`      | `{\"clave\": \"valor\"}`  | Diccionario clave-valor                  |\n",
    "| **Especial**      | `NoneType`  | `None`                | Representa la ausencia de un valor       |\n"
   ]
  },
  {
   "cell_type": "code",
   "execution_count": 11,
   "id": "3f1c6847-c397-4a20-945f-625e715f3887",
   "metadata": {},
   "outputs": [],
   "source": [
    "diccionario = {\"estatura\":1.83,\"edad\":26}"
   ]
  },
  {
   "cell_type": "markdown",
   "id": "befdb76e-91d4-469b-a4df-69fae8846201",
   "metadata": {},
   "source": [
    "**Condicionales**"
   ]
  },
  {
   "cell_type": "markdown",
   "id": "d6d77ba1-299d-47e1-9fc7-e65ed79df97f",
   "metadata": {},
   "source": [
    "Los condicionales son una porción de código que nos ayuda a tomar una decisión u otra (ejutar un trozo de código u otro) en función de una condición."
   ]
  },
  {
   "cell_type": "code",
   "execution_count": null,
   "id": "d51a1258",
   "metadata": {},
   "outputs": [],
   "source": [
    "cond=2\n",
    "\n",
    "if 1==cond:\n",
    "    print(\"Verdad\")\n",
    "\n",
    "else:\n",
    "    print(\"Mentiroso\")"
   ]
  },
  {
   "cell_type": "markdown",
   "id": "11010801-8dcd-45b7-8186-e06fde0704b0",
   "metadata": {},
   "source": [
    "**Bucles**"
   ]
  },
  {
   "cell_type": "markdown",
   "id": "ba2217fd-d9c7-4121-a56a-f2acdc897021",
   "metadata": {},
   "source": [
    "Los bucles son sentencias de código que repiten una acción hasta que se da una condición.\n",
    "\n",
    "Los hay de dos tipos: for y while.\n",
    "\n",
    "- for : repite acción para los elementos de un objeto iterable.\n",
    "- while: repite una acción mientras se de una condición."
   ]
  },
  {
   "cell_type": "code",
   "execution_count": 21,
   "id": "6cacc0cc-b5f2-4a58-8760-703a03288f7b",
   "metadata": {},
   "outputs": [],
   "source": [
    "Lista1= [1,2,\"3\",False, {'clave':'valor'}]"
   ]
  },
  {
   "cell_type": "code",
   "execution_count": 22,
   "id": "bb0c0372-8a2f-4730-9129-e157c85fe920",
   "metadata": {},
   "outputs": [
    {
     "name": "stdout",
     "output_type": "stream",
     "text": [
      "El tipo de dato de 1 es <class 'int'>\n",
      "El tipo de dato de 2 es <class 'int'>\n",
      "El tipo de dato de 3 es <class 'str'>\n",
      "El tipo de dato de False es <class 'bool'>\n",
      "El tipo de dato de {'clave': 'valor'} es <class 'dict'>\n"
     ]
    }
   ],
   "source": [
    "for elem in Lista1:\n",
    "    print(f\"El tipo de dato de {elem} es {type(elem)}\")"
   ]
  },
  {
   "cell_type": "markdown",
   "id": "7c9905d1-ed26-44a1-b905-edb64cc86300",
   "metadata": {},
   "source": [
    "**Librerías**"
   ]
  },
  {
   "cell_type": "markdown",
   "id": "df8bf1e7-b6c1-4d5a-a208-7856537b63ce",
   "metadata": {},
   "source": [
    "Una librería en python es un compendio de código desarrollado por una persona, empresa u organización con el fin de resolver una tarea específica. Por ejemplo, para trabajar con estructuras de datos en memoria tenemos Pandas, que es la que veremos en este seminario.\n",
    "\n",
    "Una librería puede requerir formación específica para utilizarlas, pueden englobarse dentro o incluso crear un framework. Hay puestos de trabajo dedicados incluso al manejo de una sola librería\n",
    "\n",
    "El repositorio oficial de librerías en python es Pypi: https://pypi.org/\n",
    "\n",
    "Para utilizarlas, especificarmos con import la librería:\n"
   ]
  },
  {
   "cell_type": "code",
   "execution_count": 23,
   "id": "3e61a0e5-b45e-4906-8759-5842be15c92d",
   "metadata": {},
   "outputs": [
    {
     "data": {
      "text/plain": [
       "1.0"
      ]
     },
     "execution_count": 23,
     "metadata": {},
     "output_type": "execute_result"
    }
   ],
   "source": [
    "import numpy as np # as np es el alias, se utiliza para acceder a una función específica de la librería\n",
    "\n",
    "np.sqrt(1)"
   ]
  },
  {
   "cell_type": "code",
   "execution_count": 24,
   "id": "68b4cf47-5ed7-4762-a379-64fd97606f9f",
   "metadata": {},
   "outputs": [
    {
     "data": {
      "text/plain": [
       "array([1, 2, 3, 4, 5])"
      ]
     },
     "execution_count": 24,
     "metadata": {},
     "output_type": "execute_result"
    }
   ],
   "source": [
    "np.array([1,2,3,4,5])"
   ]
  },
  {
   "cell_type": "code",
   "execution_count": 25,
   "id": "559cd2bb-4ce0-415b-a5d4-61e9b8756000",
   "metadata": {},
   "outputs": [
    {
     "data": {
      "text/plain": [
       "55"
      ]
     },
     "execution_count": 25,
     "metadata": {},
     "output_type": "execute_result"
    }
   ],
   "source": [
    "np.dot(np.array([1,2,3,4,5]),np.array([1,2,3,4,5])) # Producto escalar vectorial"
   ]
  },
  {
   "cell_type": "markdown",
   "id": "e208c393-9e18-42ac-b808-a9397e78db92",
   "metadata": {},
   "source": [
    "**Definición de funciones**"
   ]
  },
  {
   "cell_type": "markdown",
   "id": "88d1e323-ae02-49a9-9f56-b02c88b4b1a4",
   "metadata": {},
   "source": [
    "Para definir una función se usa def. Tras ello especificamos el nombre de la función y las variables de entrada. No hace falta especificar el tipo de la variable de entrada, python es capaz de identificarlo, pero si lo especificamos nos sirve de control."
   ]
  },
  {
   "cell_type": "code",
   "execution_count": 5,
   "id": "f014cee7-ed67-4508-9b52-73c0e622d612",
   "metadata": {},
   "outputs": [
    {
     "data": {
      "text/plain": [
       "5"
      ]
     },
     "execution_count": 5,
     "metadata": {},
     "output_type": "execute_result"
    }
   ],
   "source": [
    "def funcion(a,b):\n",
    "    return a+b\n",
    "\n",
    "funcion(2,3)"
   ]
  },
  {
   "cell_type": "code",
   "execution_count": 10,
   "id": "14a433b0-ab3b-4188-950b-4c339a4f5e3f",
   "metadata": {},
   "outputs": [
    {
     "data": {
      "text/plain": [
       "' Hola Hola'"
      ]
     },
     "execution_count": 10,
     "metadata": {},
     "output_type": "execute_result"
    }
   ],
   "source": [
    "def funcion2(a,b):\n",
    "    return a*b\n",
    "    \n",
    "funcion2(2,' Hola')"
   ]
  },
  {
   "cell_type": "code",
   "execution_count": 13,
   "id": "ec310bb1-824b-426f-be78-eff9d56ae64b",
   "metadata": {},
   "outputs": [
    {
     "data": {
      "text/plain": [
       "' Hola Hola'"
      ]
     },
     "execution_count": 13,
     "metadata": {},
     "output_type": "execute_result"
    }
   ],
   "source": [
    "def funcion3(a,b:int):\n",
    "    return a*b\n",
    "    \n",
    "funcion3(2,' Hola')"
   ]
  },
  {
   "cell_type": "markdown",
   "id": "823e7977-5e00-4866-8fe7-2539d7399159",
   "metadata": {},
   "source": [
    "## Repasemos el archivo .py\n",
    "\n",
    "**Nota:** Python usa indentación (espacios o tabulaciones) para estructurar el código."
   ]
  },
  {
   "cell_type": "markdown",
   "id": "3235fd8c-2ef2-417c-8900-e70c1cc491e1",
   "metadata": {},
   "source": [
    "## Ejercicio 1 (15 min)\n",
    "\n",
    "- Importa la librería nmpy con el alias np\n",
    "\n",
    "- Define una función que se llame repite() que la entrada sea un número entero y un string y aplica la siguiente lógica:\n",
    "\n",
    "Si el número es mayor que 1 repite el string tantas veces como el número indique, en otro caso, muestra en pantalla un mensaje que indique que el número tiene que ser mayor o igual que 1.\n",
    "\n",
    "\n",
    " \n"
   ]
  },
  {
   "cell_type": "code",
   "execution_count": null,
   "id": "d4d2c1c6-a846-4dcc-a57c-2a4d9b59264e",
   "metadata": {},
   "outputs": [],
   "source": []
  }
 ],
 "metadata": {
  "kernelspec": {
   "display_name": "Python 3 (ipykernel)",
   "language": "python",
   "name": "python3"
  },
  "language_info": {
   "codemirror_mode": {
    "name": "ipython",
    "version": 3
   },
   "file_extension": ".py",
   "mimetype": "text/x-python",
   "name": "python",
   "nbconvert_exporter": "python",
   "pygments_lexer": "ipython3",
   "version": "3.12.7"
  }
 },
 "nbformat": 4,
 "nbformat_minor": 5
}
